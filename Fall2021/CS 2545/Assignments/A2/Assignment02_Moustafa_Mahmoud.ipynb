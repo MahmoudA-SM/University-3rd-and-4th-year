{
 "cells": [
  {
   "cell_type": "markdown",
   "metadata": {},
   "source": [
    "# Assignment 2\n",
    "\n",
    "### CS2545 - Data Science ###\n",
    "### Fall, 2021 ###\n",
    "### UNB, Fredericton ###\n",
    "\n",
    "**Notebook:** Complete the assignment and submit the .ipynb file (with filename changed to **Assignment02_LastName_FirstName.ipynb**) to D2L. <br>\n",
    "<br>\n",
    "**Deadline:** 5:00 pm, December 9, 2021\n",
    "<br>\n",
    "<br>\n",
    "**Submission guidelines:** <br>\n",
    "•\tLate assignments will not be marked, except if alternate arrangements have been approved by the instructor. <br>\n",
    "•\tAssignment components that are required to be submitted electronically via D2L, and are not submitted via D2L, will not be marked. <br>\n",
    "\n",
    "**Note about plagiarism:** <br>\n",
    "Any assignments that appear to be in violation of an academic offence (plagiarism) will be reported to the Registrar’s Office as per UNB regulations (See section VII of UNB Undergraduate Calendar). <br>\n"
   ]
  },
  {
   "cell_type": "markdown",
   "metadata": {},
   "source": [
    "**Task and Dataset** \n",
    "\n",
    "For this assignment you will analyze Spotify datasets and perform music related analysis. You will find the following 3 files  in the datasets.zip file from D2L:\n",
    "\n",
    "- *artists.csv*\n",
    "- *albums.csv*\n",
    "- *tracks.csv*\n",
    "\n",
    "You may want to first open the files with a text editor and observe the files carefully, to get an idea about the fields in the data table. The meaning of each column label is self-explanatory."
   ]
  },
  {
   "cell_type": "code",
   "execution_count": 2,
   "metadata": {},
   "outputs": [],
   "source": [
    "import matplotlib.pyplot as plt\n",
    "import pandas as pd\n",
    "import numpy as np\n",
    "import math\n",
    "import thinkstats2\n",
    "import thinkplot\n",
    "%matplotlib inline\n"
   ]
  },
  {
   "cell_type": "markdown",
   "metadata": {},
   "source": [
    "**Q1** Load the 3 data files (mentioned above) as dataframes: *artists_df*, *albums_df* and *track_df* respectively. \n",
    "\n",
    "Then, show the first 5 records of the dataframes."
   ]
  },
  {
   "cell_type": "code",
   "execution_count": 4,
   "metadata": {
    "scrolled": false
   },
   "outputs": [
    {
     "data": {
      "text/html": [
       "<div>\n",
       "<style scoped>\n",
       "    .dataframe tbody tr th:only-of-type {\n",
       "        vertical-align: middle;\n",
       "    }\n",
       "\n",
       "    .dataframe tbody tr th {\n",
       "        vertical-align: top;\n",
       "    }\n",
       "\n",
       "    .dataframe thead th {\n",
       "        text-align: right;\n",
       "    }\n",
       "</style>\n",
       "<table border=\"1\" class=\"dataframe\">\n",
       "  <thead>\n",
       "    <tr style=\"text-align: right;\">\n",
       "      <th></th>\n",
       "      <th>artist_id</th>\n",
       "      <th>artist_popularity</th>\n",
       "      <th>followers</th>\n",
       "      <th>genres</th>\n",
       "      <th>artist_name</th>\n",
       "    </tr>\n",
       "  </thead>\n",
       "  <tbody>\n",
       "    <tr>\n",
       "      <th>0</th>\n",
       "      <td>4mGnpjhqgx4RUdsIJiURdo</td>\n",
       "      <td>44</td>\n",
       "      <td>23230</td>\n",
       "      <td>['sertanejo', 'sertanejo pop', 'sertanejo trad...</td>\n",
       "      <td>Juliano Cezar</td>\n",
       "    </tr>\n",
       "    <tr>\n",
       "      <th>1</th>\n",
       "      <td>1dLnVku4VQUOLswwDFvRc9</td>\n",
       "      <td>22</td>\n",
       "      <td>313</td>\n",
       "      <td>[]</td>\n",
       "      <td>The Grenadines</td>\n",
       "    </tr>\n",
       "    <tr>\n",
       "      <th>2</th>\n",
       "      <td>6YVY310fjfUzKi8hiqR7iK</td>\n",
       "      <td>26</td>\n",
       "      <td>1596</td>\n",
       "      <td>['danish pop rock']</td>\n",
       "      <td>Gangway</td>\n",
       "    </tr>\n",
       "    <tr>\n",
       "      <th>3</th>\n",
       "      <td>2VElyouiCfoYPDJluzwJwK</td>\n",
       "      <td>31</td>\n",
       "      <td>149</td>\n",
       "      <td>['uk alternative pop']</td>\n",
       "      <td>FADES</td>\n",
       "    </tr>\n",
       "    <tr>\n",
       "      <th>4</th>\n",
       "      <td>4agVy03qW8juSysCTUOuDI</td>\n",
       "      <td>21</td>\n",
       "      <td>11</td>\n",
       "      <td>['french baroque']</td>\n",
       "      <td>Jean-Pierre Guignon</td>\n",
       "    </tr>\n",
       "  </tbody>\n",
       "</table>\n",
       "</div>"
      ],
      "text/plain": [
       "                artist_id  artist_popularity  followers  \\\n",
       "0  4mGnpjhqgx4RUdsIJiURdo                 44      23230   \n",
       "1  1dLnVku4VQUOLswwDFvRc9                 22        313   \n",
       "2  6YVY310fjfUzKi8hiqR7iK                 26       1596   \n",
       "3  2VElyouiCfoYPDJluzwJwK                 31        149   \n",
       "4  4agVy03qW8juSysCTUOuDI                 21         11   \n",
       "\n",
       "                                              genres          artist_name  \n",
       "0  ['sertanejo', 'sertanejo pop', 'sertanejo trad...        Juliano Cezar  \n",
       "1                                                 []       The Grenadines  \n",
       "2                                ['danish pop rock']              Gangway  \n",
       "3                             ['uk alternative pop']                FADES  \n",
       "4                                 ['french baroque']  Jean-Pierre Guignon  "
      ]
     },
     "execution_count": 4,
     "metadata": {},
     "output_type": "execute_result"
    }
   ],
   "source": [
    "# load artists_df  dataframe\n",
    "\n",
    "artists_df = pd.read_csv(\"artists.csv\", delimiter =',')"
   ]
  },
  {
   "cell_type": "code",
   "execution_count": 6,
   "metadata": {},
   "outputs": [
    {
     "data": {
      "text/html": [
       "<div>\n",
       "<style scoped>\n",
       "    .dataframe tbody tr th:only-of-type {\n",
       "        vertical-align: middle;\n",
       "    }\n",
       "\n",
       "    .dataframe tbody tr th {\n",
       "        vertical-align: top;\n",
       "    }\n",
       "\n",
       "    .dataframe thead th {\n",
       "        text-align: right;\n",
       "    }\n",
       "</style>\n",
       "<table border=\"1\" class=\"dataframe\">\n",
       "  <thead>\n",
       "    <tr style=\"text-align: right;\">\n",
       "      <th></th>\n",
       "      <th>album_id</th>\n",
       "      <th>album_type</th>\n",
       "      <th>artist_id</th>\n",
       "      <th>album_name</th>\n",
       "      <th>release_date</th>\n",
       "      <th>release_date_precision</th>\n",
       "      <th>total_tracks</th>\n",
       "    </tr>\n",
       "  </thead>\n",
       "  <tbody>\n",
       "    <tr>\n",
       "      <th>0</th>\n",
       "      <td>1gAM7M4rBwEbSPeAQR2nx1</td>\n",
       "      <td>single</td>\n",
       "      <td>3DiDSECUqqY1AuBP8qtaIa</td>\n",
       "      <td>If I Ain't Got You EP</td>\n",
       "      <td>2/8/2019</td>\n",
       "      <td>day</td>\n",
       "      <td>6</td>\n",
       "    </tr>\n",
       "    <tr>\n",
       "      <th>1</th>\n",
       "      <td>4KfJZV7WfolYlxBzOTo66s</td>\n",
       "      <td>album</td>\n",
       "      <td>6s1pCNXcbdtQJlsnM1hRIA</td>\n",
       "      <td>Shostakovich Symphony No.5 - Four Romances on ...</td>\n",
       "      <td>3/1/2019</td>\n",
       "      <td>day</td>\n",
       "      <td>8</td>\n",
       "    </tr>\n",
       "    <tr>\n",
       "      <th>2</th>\n",
       "      <td>7nLYY7uAVUb57kpd7tZxnS</td>\n",
       "      <td>single</td>\n",
       "      <td>5YjfNaHq05WrwldRe1QSBc</td>\n",
       "      <td>Take My Bass</td>\n",
       "      <td>3/14/2019</td>\n",
       "      <td>day</td>\n",
       "      <td>1</td>\n",
       "    </tr>\n",
       "    <tr>\n",
       "      <th>3</th>\n",
       "      <td>6p20Rt4x2Qn5mUMRi1s6pj</td>\n",
       "      <td>single</td>\n",
       "      <td>2G9Vc16JCpnZmK4uGH46Fa</td>\n",
       "      <td>Hypnotizing (Are U)</td>\n",
       "      <td>11/16/2016</td>\n",
       "      <td>day</td>\n",
       "      <td>1</td>\n",
       "    </tr>\n",
       "    <tr>\n",
       "      <th>4</th>\n",
       "      <td>1XeoOqC1q7U2iyLEQJ64cu</td>\n",
       "      <td>single</td>\n",
       "      <td>2dwM9OcE4c3Ph1UBINSodx</td>\n",
       "      <td>Sunshine</td>\n",
       "      <td>7/20/2018</td>\n",
       "      <td>day</td>\n",
       "      <td>1</td>\n",
       "    </tr>\n",
       "  </tbody>\n",
       "</table>\n",
       "</div>"
      ],
      "text/plain": [
       "                 album_id album_type               artist_id  \\\n",
       "0  1gAM7M4rBwEbSPeAQR2nx1     single  3DiDSECUqqY1AuBP8qtaIa   \n",
       "1  4KfJZV7WfolYlxBzOTo66s      album  6s1pCNXcbdtQJlsnM1hRIA   \n",
       "2  7nLYY7uAVUb57kpd7tZxnS     single  5YjfNaHq05WrwldRe1QSBc   \n",
       "3  6p20Rt4x2Qn5mUMRi1s6pj     single  2G9Vc16JCpnZmK4uGH46Fa   \n",
       "4  1XeoOqC1q7U2iyLEQJ64cu     single  2dwM9OcE4c3Ph1UBINSodx   \n",
       "\n",
       "                                          album_name release_date  \\\n",
       "0                              If I Ain't Got You EP     2/8/2019   \n",
       "1  Shostakovich Symphony No.5 - Four Romances on ...     3/1/2019   \n",
       "2                                       Take My Bass    3/14/2019   \n",
       "3                                Hypnotizing (Are U)   11/16/2016   \n",
       "4                                           Sunshine    7/20/2018   \n",
       "\n",
       "  release_date_precision  total_tracks  \n",
       "0                    day             6  \n",
       "1                    day             8  \n",
       "2                    day             1  \n",
       "3                    day             1  \n",
       "4                    day             1  "
      ]
     },
     "execution_count": 6,
     "metadata": {},
     "output_type": "execute_result"
    }
   ],
   "source": [
    "# load albums_df  dataframe\n",
    "\n",
    "albums_df = pd.read_csv('albums.csv', delimiter =',')"
   ]
  },
  {
   "cell_type": "code",
   "execution_count": 7,
   "metadata": {},
   "outputs": [
    {
     "data": {
      "text/html": [
       "<div>\n",
       "<style scoped>\n",
       "    .dataframe tbody tr th:only-of-type {\n",
       "        vertical-align: middle;\n",
       "    }\n",
       "\n",
       "    .dataframe tbody tr th {\n",
       "        vertical-align: top;\n",
       "    }\n",
       "\n",
       "    .dataframe thead th {\n",
       "        text-align: right;\n",
       "    }\n",
       "</style>\n",
       "<table border=\"1\" class=\"dataframe\">\n",
       "  <thead>\n",
       "    <tr style=\"text-align: right;\">\n",
       "      <th></th>\n",
       "      <th>track_id</th>\n",
       "      <th>album_id</th>\n",
       "      <th>artists_id</th>\n",
       "      <th>popularity</th>\n",
       "      <th>acousticness</th>\n",
       "      <th>danceability</th>\n",
       "      <th>duration_ms</th>\n",
       "      <th>energy</th>\n",
       "      <th>liveness</th>\n",
       "      <th>loudness</th>\n",
       "      <th>speechiness</th>\n",
       "      <th>tempo</th>\n",
       "      <th>valence</th>\n",
       "      <th>track_name_prev</th>\n",
       "      <th>track_number</th>\n",
       "    </tr>\n",
       "  </thead>\n",
       "  <tbody>\n",
       "    <tr>\n",
       "      <th>0</th>\n",
       "      <td>5qljLQuKnNJf4F4vfxQB0V</td>\n",
       "      <td>0D3QufeCudpQANOR7luqdr</td>\n",
       "      <td>['3mxJuHRn2ZWD5OofvJtDZY']</td>\n",
       "      <td>28</td>\n",
       "      <td>0.294</td>\n",
       "      <td>0.698</td>\n",
       "      <td>235584</td>\n",
       "      <td>0.606</td>\n",
       "      <td>0.151</td>\n",
       "      <td>-7.447</td>\n",
       "      <td>0.0262</td>\n",
       "      <td>115.018</td>\n",
       "      <td>0.6220</td>\n",
       "      <td>track_14</td>\n",
       "      <td>1</td>\n",
       "    </tr>\n",
       "    <tr>\n",
       "      <th>1</th>\n",
       "      <td>3VAX2MJdmdqARLSU5hPMpm</td>\n",
       "      <td>1bcqsH5UyTBzmh9YizdsBE</td>\n",
       "      <td>['4xWMewm6CYMstu0sPgd9jJ']</td>\n",
       "      <td>31</td>\n",
       "      <td>0.863</td>\n",
       "      <td>0.719</td>\n",
       "      <td>656960</td>\n",
       "      <td>0.308</td>\n",
       "      <td>0.253</td>\n",
       "      <td>-10.340</td>\n",
       "      <td>0.9220</td>\n",
       "      <td>115.075</td>\n",
       "      <td>0.5890</td>\n",
       "      <td>track_3</td>\n",
       "      <td>3</td>\n",
       "    </tr>\n",
       "    <tr>\n",
       "      <th>2</th>\n",
       "      <td>1L3YAhsEMrGVvCgDXj2TYn</td>\n",
       "      <td>4tKijjmxGClg4JOLAyo2qE</td>\n",
       "      <td>['3hYaK5FF3YAglCj5HZgBnP']</td>\n",
       "      <td>31</td>\n",
       "      <td>0.750</td>\n",
       "      <td>0.466</td>\n",
       "      <td>492840</td>\n",
       "      <td>0.931</td>\n",
       "      <td>0.938</td>\n",
       "      <td>-13.605</td>\n",
       "      <td>0.9440</td>\n",
       "      <td>79.565</td>\n",
       "      <td>0.0850</td>\n",
       "      <td>track_4</td>\n",
       "      <td>4</td>\n",
       "    </tr>\n",
       "    <tr>\n",
       "      <th>3</th>\n",
       "      <td>6aCe9zzoZmCojX7bbgKKtf</td>\n",
       "      <td>6FeJF5r8roonnKraJxr4oB</td>\n",
       "      <td>['2KQsUB9DRBcJk17JWX1eXD']</td>\n",
       "      <td>14</td>\n",
       "      <td>0.763</td>\n",
       "      <td>0.719</td>\n",
       "      <td>316578</td>\n",
       "      <td>0.126</td>\n",
       "      <td>0.113</td>\n",
       "      <td>-20.254</td>\n",
       "      <td>0.9380</td>\n",
       "      <td>112.822</td>\n",
       "      <td>0.5330</td>\n",
       "      <td>track_9</td>\n",
       "      <td>1</td>\n",
       "    </tr>\n",
       "    <tr>\n",
       "      <th>4</th>\n",
       "      <td>1Vo802A38tPFHmje1h91um</td>\n",
       "      <td>4tKijjmxGClg4JOLAyo2qE</td>\n",
       "      <td>['3hYaK5FF3YAglCj5HZgBnP']</td>\n",
       "      <td>32</td>\n",
       "      <td>0.770</td>\n",
       "      <td>0.460</td>\n",
       "      <td>558880</td>\n",
       "      <td>0.942</td>\n",
       "      <td>0.917</td>\n",
       "      <td>-13.749</td>\n",
       "      <td>0.9430</td>\n",
       "      <td>81.260</td>\n",
       "      <td>0.0906</td>\n",
       "      <td>track_2</td>\n",
       "      <td>2</td>\n",
       "    </tr>\n",
       "  </tbody>\n",
       "</table>\n",
       "</div>"
      ],
      "text/plain": [
       "                 track_id                album_id                  artists_id  \\\n",
       "0  5qljLQuKnNJf4F4vfxQB0V  0D3QufeCudpQANOR7luqdr  ['3mxJuHRn2ZWD5OofvJtDZY']   \n",
       "1  3VAX2MJdmdqARLSU5hPMpm  1bcqsH5UyTBzmh9YizdsBE  ['4xWMewm6CYMstu0sPgd9jJ']   \n",
       "2  1L3YAhsEMrGVvCgDXj2TYn  4tKijjmxGClg4JOLAyo2qE  ['3hYaK5FF3YAglCj5HZgBnP']   \n",
       "3  6aCe9zzoZmCojX7bbgKKtf  6FeJF5r8roonnKraJxr4oB  ['2KQsUB9DRBcJk17JWX1eXD']   \n",
       "4  1Vo802A38tPFHmje1h91um  4tKijjmxGClg4JOLAyo2qE  ['3hYaK5FF3YAglCj5HZgBnP']   \n",
       "\n",
       "   popularity  acousticness  danceability  duration_ms  energy  liveness  \\\n",
       "0          28         0.294         0.698       235584   0.606     0.151   \n",
       "1          31         0.863         0.719       656960   0.308     0.253   \n",
       "2          31         0.750         0.466       492840   0.931     0.938   \n",
       "3          14         0.763         0.719       316578   0.126     0.113   \n",
       "4          32         0.770         0.460       558880   0.942     0.917   \n",
       "\n",
       "   loudness  speechiness    tempo  valence track_name_prev  track_number  \n",
       "0    -7.447       0.0262  115.018   0.6220        track_14             1  \n",
       "1   -10.340       0.9220  115.075   0.5890         track_3             3  \n",
       "2   -13.605       0.9440   79.565   0.0850         track_4             4  \n",
       "3   -20.254       0.9380  112.822   0.5330         track_9             1  \n",
       "4   -13.749       0.9430   81.260   0.0906         track_2             2  "
      ]
     },
     "execution_count": 7,
     "metadata": {},
     "output_type": "execute_result"
    }
   ],
   "source": [
    "# load tracks_df  dataframe\n",
    "\n",
    "tracks_df = pd.read_csv('tracks.csv', delimiter = ',')"
   ]
  },
  {
   "cell_type": "markdown",
   "metadata": {},
   "source": [
    "**Q1.1** Merge the *artists_df* and *albums_df*  dataframes and name the new dataframe *art_alb_df* and show the first 5 rows."
   ]
  },
  {
   "cell_type": "code",
   "execution_count": 8,
   "metadata": {},
   "outputs": [
    {
     "data": {
      "text/html": [
       "<div>\n",
       "<style scoped>\n",
       "    .dataframe tbody tr th:only-of-type {\n",
       "        vertical-align: middle;\n",
       "    }\n",
       "\n",
       "    .dataframe tbody tr th {\n",
       "        vertical-align: top;\n",
       "    }\n",
       "\n",
       "    .dataframe thead th {\n",
       "        text-align: right;\n",
       "    }\n",
       "</style>\n",
       "<table border=\"1\" class=\"dataframe\">\n",
       "  <thead>\n",
       "    <tr style=\"text-align: right;\">\n",
       "      <th></th>\n",
       "      <th>artist_id</th>\n",
       "      <th>artist_popularity</th>\n",
       "      <th>followers</th>\n",
       "      <th>genres</th>\n",
       "      <th>artist_name</th>\n",
       "      <th>album_id</th>\n",
       "      <th>album_type</th>\n",
       "      <th>album_name</th>\n",
       "      <th>release_date</th>\n",
       "      <th>release_date_precision</th>\n",
       "      <th>total_tracks</th>\n",
       "    </tr>\n",
       "  </thead>\n",
       "  <tbody>\n",
       "    <tr>\n",
       "      <th>0</th>\n",
       "      <td>4mGnpjhqgx4RUdsIJiURdo</td>\n",
       "      <td>44</td>\n",
       "      <td>23230</td>\n",
       "      <td>['sertanejo', 'sertanejo pop', 'sertanejo trad...</td>\n",
       "      <td>Juliano Cezar</td>\n",
       "      <td>2tx2zEr2JUKhDqnRlWQdzR</td>\n",
       "      <td>album</td>\n",
       "      <td>É Isso Que A Galera Quer</td>\n",
       "      <td>9/1/2006</td>\n",
       "      <td>day</td>\n",
       "      <td>15</td>\n",
       "    </tr>\n",
       "    <tr>\n",
       "      <th>1</th>\n",
       "      <td>4mGnpjhqgx4RUdsIJiURdo</td>\n",
       "      <td>44</td>\n",
       "      <td>23230</td>\n",
       "      <td>['sertanejo', 'sertanejo pop', 'sertanejo trad...</td>\n",
       "      <td>Juliano Cezar</td>\n",
       "      <td>2zmd7Bn7in6CrgdHpFvU0b</td>\n",
       "      <td>album</td>\n",
       "      <td>Sucessos de Juliano Cézar</td>\n",
       "      <td>8/1/2013</td>\n",
       "      <td>day</td>\n",
       "      <td>15</td>\n",
       "    </tr>\n",
       "    <tr>\n",
       "      <th>2</th>\n",
       "      <td>1dLnVku4VQUOLswwDFvRc9</td>\n",
       "      <td>22</td>\n",
       "      <td>313</td>\n",
       "      <td>[]</td>\n",
       "      <td>The Grenadines</td>\n",
       "      <td>5YEORJnaovJcPqKNhlIQlx</td>\n",
       "      <td>album</td>\n",
       "      <td>Band on the Radio</td>\n",
       "      <td>11/16/2018</td>\n",
       "      <td>day</td>\n",
       "      <td>10</td>\n",
       "    </tr>\n",
       "    <tr>\n",
       "      <th>3</th>\n",
       "      <td>6YVY310fjfUzKi8hiqR7iK</td>\n",
       "      <td>26</td>\n",
       "      <td>1596</td>\n",
       "      <td>['danish pop rock']</td>\n",
       "      <td>Gangway</td>\n",
       "      <td>65CsTqUbM5RH0jFRZdIygK</td>\n",
       "      <td>album</td>\n",
       "      <td>Happy Ever After</td>\n",
       "      <td>9/17/1992</td>\n",
       "      <td>day</td>\n",
       "      <td>12</td>\n",
       "    </tr>\n",
       "    <tr>\n",
       "      <th>4</th>\n",
       "      <td>2VElyouiCfoYPDJluzwJwK</td>\n",
       "      <td>31</td>\n",
       "      <td>149</td>\n",
       "      <td>['uk alternative pop']</td>\n",
       "      <td>FADES</td>\n",
       "      <td>7Jbgxp7IqL09ODxOPYJJkv</td>\n",
       "      <td>single</td>\n",
       "      <td>Wasted</td>\n",
       "      <td>2/22/2019</td>\n",
       "      <td>day</td>\n",
       "      <td>1</td>\n",
       "    </tr>\n",
       "  </tbody>\n",
       "</table>\n",
       "</div>"
      ],
      "text/plain": [
       "                artist_id  artist_popularity  followers  \\\n",
       "0  4mGnpjhqgx4RUdsIJiURdo                 44      23230   \n",
       "1  4mGnpjhqgx4RUdsIJiURdo                 44      23230   \n",
       "2  1dLnVku4VQUOLswwDFvRc9                 22        313   \n",
       "3  6YVY310fjfUzKi8hiqR7iK                 26       1596   \n",
       "4  2VElyouiCfoYPDJluzwJwK                 31        149   \n",
       "\n",
       "                                              genres     artist_name  \\\n",
       "0  ['sertanejo', 'sertanejo pop', 'sertanejo trad...   Juliano Cezar   \n",
       "1  ['sertanejo', 'sertanejo pop', 'sertanejo trad...   Juliano Cezar   \n",
       "2                                                 []  The Grenadines   \n",
       "3                                ['danish pop rock']         Gangway   \n",
       "4                             ['uk alternative pop']           FADES   \n",
       "\n",
       "                 album_id album_type                 album_name release_date  \\\n",
       "0  2tx2zEr2JUKhDqnRlWQdzR      album   É Isso Que A Galera Quer     9/1/2006   \n",
       "1  2zmd7Bn7in6CrgdHpFvU0b      album  Sucessos de Juliano Cézar     8/1/2013   \n",
       "2  5YEORJnaovJcPqKNhlIQlx      album          Band on the Radio   11/16/2018   \n",
       "3  65CsTqUbM5RH0jFRZdIygK      album           Happy Ever After    9/17/1992   \n",
       "4  7Jbgxp7IqL09ODxOPYJJkv     single                     Wasted    2/22/2019   \n",
       "\n",
       "  release_date_precision  total_tracks  \n",
       "0                    day            15  \n",
       "1                    day            15  \n",
       "2                    day            10  \n",
       "3                    day            12  \n",
       "4                    day             1  "
      ]
     },
     "execution_count": 8,
     "metadata": {},
     "output_type": "execute_result"
    }
   ],
   "source": [
    "# your code \n",
    "art_alb_df = pd.merge(artists_df, albums_df, on = 'artist_id')\n",
    "art_alb_df.head()"
   ]
  },
  {
   "cell_type": "markdown",
   "metadata": {},
   "source": [
    "**Q1.2** Show the name of the artists and number of albums for the top 20 artists with the most number of albums (**not singles**). "
   ]
  },
  {
   "cell_type": "code",
   "execution_count": 11,
   "metadata": {},
   "outputs": [
    {
     "data": {
      "text/html": [
       "<div>\n",
       "<style scoped>\n",
       "    .dataframe tbody tr th:only-of-type {\n",
       "        vertical-align: middle;\n",
       "    }\n",
       "\n",
       "    .dataframe tbody tr th {\n",
       "        vertical-align: top;\n",
       "    }\n",
       "\n",
       "    .dataframe thead th {\n",
       "        text-align: right;\n",
       "    }\n",
       "</style>\n",
       "<table border=\"1\" class=\"dataframe\">\n",
       "  <thead>\n",
       "    <tr style=\"text-align: right;\">\n",
       "      <th></th>\n",
       "      <th>artist_name</th>\n",
       "      <th>album_type</th>\n",
       "      <th>count</th>\n",
       "    </tr>\n",
       "  </thead>\n",
       "  <tbody>\n",
       "    <tr>\n",
       "      <th>69228</th>\n",
       "      <td>Johann Sebastian Bach</td>\n",
       "      <td>album</td>\n",
       "      <td>81</td>\n",
       "    </tr>\n",
       "    <tr>\n",
       "      <th>55141</th>\n",
       "      <td>Wolfgang Amadeus Mozart</td>\n",
       "      <td>album</td>\n",
       "      <td>56</td>\n",
       "    </tr>\n",
       "    <tr>\n",
       "      <th>61691</th>\n",
       "      <td>Various Artists</td>\n",
       "      <td>album</td>\n",
       "      <td>53</td>\n",
       "    </tr>\n",
       "    <tr>\n",
       "      <th>48042</th>\n",
       "      <td>Frédéric Chopin</td>\n",
       "      <td>album</td>\n",
       "      <td>48</td>\n",
       "    </tr>\n",
       "    <tr>\n",
       "      <th>54301</th>\n",
       "      <td>Ludwig van Beethoven</td>\n",
       "      <td>album</td>\n",
       "      <td>37</td>\n",
       "    </tr>\n",
       "    <tr>\n",
       "      <th>33948</th>\n",
       "      <td>Johnny Cash</td>\n",
       "      <td>album</td>\n",
       "      <td>34</td>\n",
       "    </tr>\n",
       "    <tr>\n",
       "      <th>60923</th>\n",
       "      <td>Jean Sibelius</td>\n",
       "      <td>album</td>\n",
       "      <td>33</td>\n",
       "    </tr>\n",
       "    <tr>\n",
       "      <th>67172</th>\n",
       "      <td>A.R. Rahman</td>\n",
       "      <td>album</td>\n",
       "      <td>31</td>\n",
       "    </tr>\n",
       "    <tr>\n",
       "      <th>66252</th>\n",
       "      <td>Franz Schubert</td>\n",
       "      <td>album</td>\n",
       "      <td>30</td>\n",
       "    </tr>\n",
       "    <tr>\n",
       "      <th>69162</th>\n",
       "      <td>Franz Joseph Haydn</td>\n",
       "      <td>album</td>\n",
       "      <td>29</td>\n",
       "    </tr>\n",
       "    <tr>\n",
       "      <th>60590</th>\n",
       "      <td>Johannes Brahms</td>\n",
       "      <td>album</td>\n",
       "      <td>27</td>\n",
       "    </tr>\n",
       "    <tr>\n",
       "      <th>49899</th>\n",
       "      <td>Laura Pausini</td>\n",
       "      <td>album</td>\n",
       "      <td>26</td>\n",
       "    </tr>\n",
       "    <tr>\n",
       "      <th>71575</th>\n",
       "      <td>Roberto Carlos</td>\n",
       "      <td>album</td>\n",
       "      <td>26</td>\n",
       "    </tr>\n",
       "    <tr>\n",
       "      <th>61366</th>\n",
       "      <td>Pritam</td>\n",
       "      <td>album</td>\n",
       "      <td>25</td>\n",
       "    </tr>\n",
       "    <tr>\n",
       "      <th>30537</th>\n",
       "      <td>8-Bit Misfits</td>\n",
       "      <td>album</td>\n",
       "      <td>25</td>\n",
       "    </tr>\n",
       "    <tr>\n",
       "      <th>73348</th>\n",
       "      <td>Bob Dylan</td>\n",
       "      <td>album</td>\n",
       "      <td>24</td>\n",
       "    </tr>\n",
       "    <tr>\n",
       "      <th>68030</th>\n",
       "      <td>Luis Miguel</td>\n",
       "      <td>album</td>\n",
       "      <td>24</td>\n",
       "    </tr>\n",
       "    <tr>\n",
       "      <th>56337</th>\n",
       "      <td>George Frideric Handel</td>\n",
       "      <td>album</td>\n",
       "      <td>24</td>\n",
       "    </tr>\n",
       "    <tr>\n",
       "      <th>67992</th>\n",
       "      <td>José José</td>\n",
       "      <td>album</td>\n",
       "      <td>23</td>\n",
       "    </tr>\n",
       "    <tr>\n",
       "      <th>18875</th>\n",
       "      <td>Vitamin String Quartet</td>\n",
       "      <td>album</td>\n",
       "      <td>23</td>\n",
       "    </tr>\n",
       "  </tbody>\n",
       "</table>\n",
       "</div>"
      ],
      "text/plain": [
       "                   artist_name album_type  count\n",
       "69228    Johann Sebastian Bach      album     81\n",
       "55141  Wolfgang Amadeus Mozart      album     56\n",
       "61691          Various Artists      album     53\n",
       "48042          Frédéric Chopin      album     48\n",
       "54301     Ludwig van Beethoven      album     37\n",
       "33948              Johnny Cash      album     34\n",
       "60923            Jean Sibelius      album     33\n",
       "67172              A.R. Rahman      album     31\n",
       "66252           Franz Schubert      album     30\n",
       "69162       Franz Joseph Haydn      album     29\n",
       "60590          Johannes Brahms      album     27\n",
       "49899            Laura Pausini      album     26\n",
       "71575           Roberto Carlos      album     26\n",
       "61366                   Pritam      album     25\n",
       "30537            8-Bit Misfits      album     25\n",
       "73348                Bob Dylan      album     24\n",
       "68030              Luis Miguel      album     24\n",
       "56337   George Frideric Handel      album     24\n",
       "67992                José José      album     23\n",
       "18875   Vitamin String Quartet      album     23"
      ]
     },
     "execution_count": 11,
     "metadata": {},
     "output_type": "execute_result"
    }
   ],
   "source": [
    "# your code \n",
    "adf = art_alb_df[['artist_name', 'album_type']]\n",
    "adf.sort_values('album_type')\n",
    "adf = adf[adf.album_type == 'album']\n",
    "adf['count'] = adf.groupby('artist_name')['artist_name'].transform('count')\n",
    "adf.drop_duplicates(subset = 'artist_name', keep = 'first', inplace = True)\n",
    "adf.sort_values(by='count', ascending = False).head(20)"
   ]
  },
  {
   "cell_type": "markdown",
   "metadata": {},
   "source": [
    "**Q1.3** How many singles and how many albums were released by Alicia Keys since 2010 (inclusive). \n",
    "\n",
    "Note that the release date of albums can be a year or a particular date."
   ]
  },
  {
   "cell_type": "code",
   "execution_count": 19,
   "metadata": {},
   "outputs": [
    {
     "name": "stdout",
     "output_type": "stream",
     "text": [
      "Since 2010 inclusive, Alicia Keys released\n"
     ]
    },
    {
     "data": {
      "text/plain": [
       "single    7\n",
       "album     2\n",
       "Name: album_type, dtype: int64"
      ]
     },
     "execution_count": 19,
     "metadata": {},
     "output_type": "execute_result"
    }
   ],
   "source": [
    "# your code \n",
    "akdf = art_alb_df[['artist_name', 'release_date', 'album_type']]\n",
    "akdf = akdf[akdf['artist_name'] == 'Alicia Keys']\n",
    "akdf = akdf[akdf.album_type != 'compilation'] \n",
    "akdf['release_date'] = pd.to_datetime(akdf['release_date'])\n",
    "akdf = akdf.sort_values(by=['release_date'], ascending = False)\n",
    "akdf_output = akdf.loc[(akdf['release_date'] > '2009-12-31')]\n",
    "print('Since 2010 inclusive, Alicia Keys released')\n",
    "akdf_output['album_type'].value_counts()\n"
   ]
  },
  {
   "cell_type": "code",
   "execution_count": 16,
   "metadata": {},
   "outputs": [],
   "source": [
    "# intentionally left blank"
   ]
  },
  {
   "cell_type": "markdown",
   "metadata": {},
   "source": [
    "**Q2.1** Who are the top 5 artists with the most popularity? Do these artists have the most followers? If the lists of artists differ, what does that mean? \n",
    "\n",
    "Use *artists_df* to answer this question."
   ]
  },
  {
   "cell_type": "code",
   "execution_count": 20,
   "metadata": {},
   "outputs": [
    {
     "data": {
      "text/html": [
       "<div>\n",
       "<style scoped>\n",
       "    .dataframe tbody tr th:only-of-type {\n",
       "        vertical-align: middle;\n",
       "    }\n",
       "\n",
       "    .dataframe tbody tr th {\n",
       "        vertical-align: top;\n",
       "    }\n",
       "\n",
       "    .dataframe thead th {\n",
       "        text-align: right;\n",
       "    }\n",
       "</style>\n",
       "<table border=\"1\" class=\"dataframe\">\n",
       "  <thead>\n",
       "    <tr style=\"text-align: right;\">\n",
       "      <th></th>\n",
       "      <th>artist_id</th>\n",
       "      <th>artist_popularity</th>\n",
       "      <th>followers</th>\n",
       "      <th>genres</th>\n",
       "      <th>artist_name</th>\n",
       "    </tr>\n",
       "  </thead>\n",
       "  <tbody>\n",
       "    <tr>\n",
       "      <th>42872</th>\n",
       "      <td>66CXWjxzNUsdJxJ2JdwvnR</td>\n",
       "      <td>100</td>\n",
       "      <td>26309771</td>\n",
       "      <td>['dance pop', 'pop', 'post-teen pop']</td>\n",
       "      <td>Ariana Grande</td>\n",
       "    </tr>\n",
       "    <tr>\n",
       "      <th>53392</th>\n",
       "      <td>3TVXtAsR1Inumwj472S9r4</td>\n",
       "      <td>98</td>\n",
       "      <td>34680740</td>\n",
       "      <td>['canadian hip hop', 'canadian pop', 'hip hop'...</td>\n",
       "      <td>Drake</td>\n",
       "    </tr>\n",
       "    <tr>\n",
       "      <th>49775</th>\n",
       "      <td>246dkjvS1zLTtiykXe5h60</td>\n",
       "      <td>96</td>\n",
       "      <td>12150628</td>\n",
       "      <td>['pop', 'rap']</td>\n",
       "      <td>Post Malone</td>\n",
       "    </tr>\n",
       "    <tr>\n",
       "      <th>49695</th>\n",
       "      <td>4MCBfE4596Uoi2O4DtmEMz</td>\n",
       "      <td>95</td>\n",
       "      <td>3607186</td>\n",
       "      <td>['chicago rap']</td>\n",
       "      <td>Juice WRLD</td>\n",
       "    </tr>\n",
       "    <tr>\n",
       "      <th>52306</th>\n",
       "      <td>1i8SpTcr7yvPOmcqrbnVXY</td>\n",
       "      <td>95</td>\n",
       "      <td>15389549</td>\n",
       "      <td>['reggaeton', 'trap latino']</td>\n",
       "      <td>Ozuna</td>\n",
       "    </tr>\n",
       "  </tbody>\n",
       "</table>\n",
       "</div>"
      ],
      "text/plain": [
       "                    artist_id  artist_popularity  followers  \\\n",
       "42872  66CXWjxzNUsdJxJ2JdwvnR                100   26309771   \n",
       "53392  3TVXtAsR1Inumwj472S9r4                 98   34680740   \n",
       "49775  246dkjvS1zLTtiykXe5h60                 96   12150628   \n",
       "49695  4MCBfE4596Uoi2O4DtmEMz                 95    3607186   \n",
       "52306  1i8SpTcr7yvPOmcqrbnVXY                 95   15389549   \n",
       "\n",
       "                                                  genres    artist_name  \n",
       "42872              ['dance pop', 'pop', 'post-teen pop']  Ariana Grande  \n",
       "53392  ['canadian hip hop', 'canadian pop', 'hip hop'...          Drake  \n",
       "49775                                     ['pop', 'rap']    Post Malone  \n",
       "49695                                    ['chicago rap']     Juice WRLD  \n",
       "52306                       ['reggaeton', 'trap latino']          Ozuna  "
      ]
     },
     "execution_count": 20,
     "metadata": {},
     "output_type": "execute_result"
    }
   ],
   "source": [
    "# your code for  top 5 artists with the most popularity\n",
    "largest = 5\n",
    "populArtistsdf = artists_df.nlargest(largest, 'artist_popularity')\n",
    "populArtistsdf"
   ]
  },
  {
   "cell_type": "code",
   "execution_count": 21,
   "metadata": {},
   "outputs": [
    {
     "data": {
      "text/html": [
       "<div>\n",
       "<style scoped>\n",
       "    .dataframe tbody tr th:only-of-type {\n",
       "        vertical-align: middle;\n",
       "    }\n",
       "\n",
       "    .dataframe tbody tr th {\n",
       "        vertical-align: top;\n",
       "    }\n",
       "\n",
       "    .dataframe thead th {\n",
       "        text-align: right;\n",
       "    }\n",
       "</style>\n",
       "<table border=\"1\" class=\"dataframe\">\n",
       "  <thead>\n",
       "    <tr style=\"text-align: right;\">\n",
       "      <th></th>\n",
       "      <th>artist_id</th>\n",
       "      <th>artist_popularity</th>\n",
       "      <th>followers</th>\n",
       "      <th>genres</th>\n",
       "      <th>artist_name</th>\n",
       "    </tr>\n",
       "  </thead>\n",
       "  <tbody>\n",
       "    <tr>\n",
       "      <th>55251</th>\n",
       "      <td>6eUKZXaKkcviH0Ku9w2n3V</td>\n",
       "      <td>92</td>\n",
       "      <td>41561693</td>\n",
       "      <td>['pop', 'uk pop']</td>\n",
       "      <td>Ed Sheeran</td>\n",
       "    </tr>\n",
       "    <tr>\n",
       "      <th>53392</th>\n",
       "      <td>3TVXtAsR1Inumwj472S9r4</td>\n",
       "      <td>98</td>\n",
       "      <td>34680740</td>\n",
       "      <td>['canadian hip hop', 'canadian pop', 'hip hop'...</td>\n",
       "      <td>Drake</td>\n",
       "    </tr>\n",
       "    <tr>\n",
       "      <th>52620</th>\n",
       "      <td>5pKCCKE2ajJHZ9KAiaK11H</td>\n",
       "      <td>90</td>\n",
       "      <td>30560149</td>\n",
       "      <td>['dance pop', 'pop', 'post-teen pop', 'r&amp;b', '...</td>\n",
       "      <td>Rihanna</td>\n",
       "    </tr>\n",
       "    <tr>\n",
       "      <th>54447</th>\n",
       "      <td>1uNFoZAHBGtllmzznpCI3s</td>\n",
       "      <td>88</td>\n",
       "      <td>26824224</td>\n",
       "      <td>['canadian pop', 'dance pop', 'pop', 'post-tee...</td>\n",
       "      <td>Justin Bieber</td>\n",
       "    </tr>\n",
       "    <tr>\n",
       "      <th>42872</th>\n",
       "      <td>66CXWjxzNUsdJxJ2JdwvnR</td>\n",
       "      <td>100</td>\n",
       "      <td>26309771</td>\n",
       "      <td>['dance pop', 'pop', 'post-teen pop']</td>\n",
       "      <td>Ariana Grande</td>\n",
       "    </tr>\n",
       "  </tbody>\n",
       "</table>\n",
       "</div>"
      ],
      "text/plain": [
       "                    artist_id  artist_popularity  followers  \\\n",
       "55251  6eUKZXaKkcviH0Ku9w2n3V                 92   41561693   \n",
       "53392  3TVXtAsR1Inumwj472S9r4                 98   34680740   \n",
       "52620  5pKCCKE2ajJHZ9KAiaK11H                 90   30560149   \n",
       "54447  1uNFoZAHBGtllmzznpCI3s                 88   26824224   \n",
       "42872  66CXWjxzNUsdJxJ2JdwvnR                100   26309771   \n",
       "\n",
       "                                                  genres    artist_name  \n",
       "55251                                  ['pop', 'uk pop']     Ed Sheeran  \n",
       "53392  ['canadian hip hop', 'canadian pop', 'hip hop'...          Drake  \n",
       "52620  ['dance pop', 'pop', 'post-teen pop', 'r&b', '...        Rihanna  \n",
       "54447  ['canadian pop', 'dance pop', 'pop', 'post-tee...  Justin Bieber  \n",
       "42872              ['dance pop', 'pop', 'post-teen pop']  Ariana Grande  "
      ]
     },
     "execution_count": 21,
     "metadata": {},
     "output_type": "execute_result"
    }
   ],
   "source": [
    "# your code for artists having the most followers\n",
    "\n",
    "largest = 5\n",
    "populArtistsfolldf = artists_df.nlargest(largest, 'followers')\n",
    "populArtistsfolldf\n"
   ]
  },
  {
   "cell_type": "markdown",
   "metadata": {},
   "source": [
    "**Answer:**  just because an artist has the highest popularity does not mean that artist will have the most followers and vice versa"
   ]
  },
  {
   "cell_type": "markdown",
   "metadata": {},
   "source": [
    "**Q2.2** Using *artists_df* create a list called *genres* containing all possible values within the \"genre\" column. This list must contain only unique values.\n",
    "\n",
    "*Hint*: the genres column contains strings, not lists."
   ]
  },
  {
   "cell_type": "code",
   "execution_count": null,
   "metadata": {},
   "outputs": [],
   "source": [
    "#your code\n",
    "\n"
   ]
  },
  {
   "cell_type": "markdown",
   "metadata": {},
   "source": [
    "**Q2.3** Using *artists_df* create 5 new dataframes *pop_df*, *rock_df*, *jazz_df*, *indie_df* and *hiphop_df*. If the genre of a track **contains** the word \"pop\" (such as, in \"danish pop rock\"), add it to the *pop_df*. Do this (i.e. create the corresponding dataframes) in a  similar way for other genres.\n"
   ]
  },
  {
   "cell_type": "code",
   "execution_count": 34,
   "metadata": {},
   "outputs": [],
   "source": [
    "# your code\n",
    "# CONTAIN MTNSA4\n",
    "pop_df = artists_df[artists_df['genres'].str.contains('pop')]\n",
    "# pop_df\n",
    "rock_df = artists_df[artists_df['genres'].str.contains('rock')]\n",
    "# rock_df\n",
    "jazz_df = artists_df[artists_df['genres'].str.contains('jazz')]\n",
    "# jazz_df\n",
    "indie_df = artists_df[artists_df['genres'].str.contains('indie')]\n",
    "# indie_df\n",
    "hiphop_df = artists_df[artists_df['genres'].str.contains('hip hop')]\n",
    "# hiphop_df"
   ]
  },
  {
   "cell_type": "markdown",
   "metadata": {},
   "source": [
    "**Q2.4** For each of the 5 categories from Q2.3, plot the boxplots of the artist popularity in a single plot. Which genre has the highest median artist popularity and which boxplot looks like it has the lowest number of outliers? How do you know?"
   ]
  },
  {
   "cell_type": "code",
   "execution_count": 40,
   "metadata": {},
   "outputs": [
    {
     "data": {
      "text/plain": [
       "<AxesSubplot:>"
      ]
     },
     "execution_count": 40,
     "metadata": {},
     "output_type": "execute_result"
    },
    {
     "data": {
      "image/png": "[encoded data removed]",
      "text/plain": [
       "<Figure size 432x288 with 1 Axes>"
      ]
     },
     "metadata": {
      "needs_background": "light"
     },
     "output_type": "display_data"
    }
   ],
   "source": [
    "# your code\n",
    "\n",
    "popularity_df = pd.DataFrame()\n",
    "\n",
    "popularity_df['Pop'] = pop_df['artist_popularity']\n",
    "\n",
    "popularity_df['Rock'] = rock_df['artist_popularity']\n",
    "\n",
    "popularity_df['Jazz'] = jazz_df['artist_popularity']\n",
    "\n",
    "popularity_df['Indie'] = indie_df['artist_popularity']\n",
    "\n",
    "popularity_df['Hip-hop'] = hiphop_df['artist_popularity']\n",
    "\n",
    "popularity_df.boxplot(vert = False)"
   ]
  },
  {
   "cell_type": "markdown",
   "metadata": {},
   "source": [
    "**Answer:** It is clear that hip-hop has the highest median. Jazz also has the lowest number of outliers"
   ]
  },
  {
   "cell_type": "markdown",
   "metadata": {},
   "source": [
    "**Q2.5** For each of the 5 categories from Q2.3, plot a bar chart of the number of followers per given genre (pop, rock, jazz, indie and hip hop) in a single plot. Which genre has the most followers? Which one has the least?"
   ]
  },
  {
   "cell_type": "code",
   "execution_count": 17,
   "metadata": {},
   "outputs": [],
   "source": [
    "# your code\n"
   ]
  },
  {
   "cell_type": "markdown",
   "metadata": {},
   "source": [
    "**Answer:** "
   ]
  },
  {
   "cell_type": "code",
   "execution_count": 15,
   "metadata": {},
   "outputs": [],
   "source": [
    "# intentionally left blank"
   ]
  },
  {
   "cell_type": "markdown",
   "metadata": {},
   "source": [
    "**Q3.1** Using *artists_df* create a new dataframes *nogenre_df*. If the genre of a track **contains** is an empty list ('[]'), add it to the dataframe. Display the first 5 values of the dataframe.\n",
    "\n",
    "*Hint*: the genres column contains strings, not lists."
   ]
  },
  {
   "cell_type": "code",
   "execution_count": 53,
   "metadata": {},
   "outputs": [
    {
     "data": {
      "text/html": [
       "<div>\n",
       "<style scoped>\n",
       "    .dataframe tbody tr th:only-of-type {\n",
       "        vertical-align: middle;\n",
       "    }\n",
       "\n",
       "    .dataframe tbody tr th {\n",
       "        vertical-align: top;\n",
       "    }\n",
       "\n",
       "    .dataframe thead th {\n",
       "        text-align: right;\n",
       "    }\n",
       "</style>\n",
       "<table border=\"1\" class=\"dataframe\">\n",
       "  <thead>\n",
       "    <tr style=\"text-align: right;\">\n",
       "      <th></th>\n",
       "      <th>artist_id</th>\n",
       "      <th>artist_popularity</th>\n",
       "      <th>followers</th>\n",
       "      <th>genres</th>\n",
       "      <th>artist_name</th>\n",
       "    </tr>\n",
       "  </thead>\n",
       "  <tbody>\n",
       "    <tr>\n",
       "      <th>1</th>\n",
       "      <td>1dLnVku4VQUOLswwDFvRc9</td>\n",
       "      <td>22</td>\n",
       "      <td>313</td>\n",
       "      <td>[]</td>\n",
       "      <td>The Grenadines</td>\n",
       "    </tr>\n",
       "    <tr>\n",
       "      <th>5</th>\n",
       "      <td>38VBjthd0szbS6wpDMafrb</td>\n",
       "      <td>43</td>\n",
       "      <td>81</td>\n",
       "      <td>[]</td>\n",
       "      <td>Filhos</td>\n",
       "    </tr>\n",
       "    <tr>\n",
       "      <th>6</th>\n",
       "      <td>36mHwYa65L0WZbAXY2iSGw</td>\n",
       "      <td>34</td>\n",
       "      <td>8358</td>\n",
       "      <td>[]</td>\n",
       "      <td>Eloq</td>\n",
       "    </tr>\n",
       "    <tr>\n",
       "      <th>7</th>\n",
       "      <td>1jJyy00XfxjB4tMAv5OT0q</td>\n",
       "      <td>7</td>\n",
       "      <td>158</td>\n",
       "      <td>[]</td>\n",
       "      <td>Fravær</td>\n",
       "    </tr>\n",
       "    <tr>\n",
       "      <th>8</th>\n",
       "      <td>10A8WbBJ0zW8MnvTsUL6os</td>\n",
       "      <td>21</td>\n",
       "      <td>30</td>\n",
       "      <td>[]</td>\n",
       "      <td>Camille Pépin</td>\n",
       "    </tr>\n",
       "  </tbody>\n",
       "</table>\n",
       "</div>"
      ],
      "text/plain": [
       "                artist_id  artist_popularity  followers genres     artist_name\n",
       "1  1dLnVku4VQUOLswwDFvRc9                 22        313     []  The Grenadines\n",
       "5  38VBjthd0szbS6wpDMafrb                 43         81     []          Filhos\n",
       "6  36mHwYa65L0WZbAXY2iSGw                 34       8358     []            Eloq\n",
       "7  1jJyy00XfxjB4tMAv5OT0q                  7        158     []          Fravær\n",
       "8  10A8WbBJ0zW8MnvTsUL6os                 21         30     []   Camille Pépin"
      ]
     },
     "execution_count": 53,
     "metadata": {},
     "output_type": "execute_result"
    }
   ],
   "source": [
    "# your code\n",
    "\n",
    "nogenre_df = artists_df[artists_df['genres'] == ('[]')]\n",
    "nogenre_df.head()"
   ]
  },
  {
   "cell_type": "markdown",
   "metadata": {},
   "source": [
    "**Q3.2** In a single plot, show 6 Probability Mass Functions (PMF), as step functions, of the artist popularity for the genres from question *Q2.3* and the *nogenre_df* created in *Q3.1*.\n",
    "\n",
    "\n",
    "*Hint*: Refer to lecture notes on *_Statistics.pdf to see how to plot PMFs. "
   ]
  },
  {
   "cell_type": "code",
   "execution_count": 57,
   "metadata": {},
   "outputs": [
    {
     "data": {
      "image/png": "[encoded data removed]",
      "text/plain": [
       "<Figure size 432x288 with 1 Axes>"
      ]
     },
     "metadata": {
      "needs_background": "light"
     },
     "output_type": "display_data"
    },
    {
     "data": {
      "text/plain": [
       "<Figure size 576x432 with 0 Axes>"
      ]
     },
     "metadata": {},
     "output_type": "display_data"
    }
   ],
   "source": [
    "# your code \n",
    "import thinkstats2 as ts\n",
    "import thinkplot as tp\n",
    "\n",
    "poppmf = ts.Pmf(pop_df['artist_popularity'], label = 'Pop')\n",
    "tp.Pmf(poppmf)\n",
    "\n",
    "rockpmf = ts.Pmf(rock_df['artist_popularity'], label = 'Rock')\n",
    "tp.Pmf(rockpmf)\n",
    "\n",
    "jazzpmf = ts.Pmf(jazz_df['artist_popularity'], label = 'Jazz')\n",
    "tp.Pmf(jazzpmf)\n",
    "\n",
    "indiepmf = ts.Pmf(indie_df['artist_popularity'], label = 'Indie')\n",
    "tp.Pmf(indiepmf)\n",
    "\n",
    "hhpmf = ts.Pmf(hiphop_df['artist_popularity'], label = \"Hip-Hop\")\n",
    "tp.Pmf(hhpmf)\n",
    "\n",
    "NGPMF = ts.Pmf(nogenre_df['artist_popularity'], label = 'No Genre')\n",
    "tp.Pmf(NGPMF)\n",
    "\n",
    "tp.config(xlabel = 'Artist Popularity', ylabel = 'Probability')\n",
    "tp.show()"
   ]
  },
  {
   "cell_type": "markdown",
   "metadata": {},
   "source": [
    "**Q3.3** From the PMF plots, what can you infer? (Note that artist popularity is on a scale from 0-100)\n",
    "\n",
    "**Answer:** Colors look similar yet, if I am correct, it looks like jazz has the higest artist popularity probability"
   ]
  },
  {
   "cell_type": "markdown",
   "metadata": {},
   "source": [
    "**Q3.4** In a single plot, show 6 Cumulative Distribution Functions (CDF) of the artist popularity for the genres from question *Q2.3* and the *nogenre_df* created in *Q3.1*.\n",
    "\n",
    "\n",
    "*Hint*: Refer to lecture notes on *_Statistics.pdf to see how to plot CDFs. "
   ]
  },
  {
   "cell_type": "code",
   "execution_count": 58,
   "metadata": {},
   "outputs": [
    {
     "data": {
      "image/png": "[encoded data removed]",
      "text/plain": [
       "<Figure size 432x288 with 1 Axes>"
      ]
     },
     "metadata": {
      "needs_background": "light"
     },
     "output_type": "display_data"
    },
    {
     "data": {
      "text/plain": [
       "<Figure size 576x432 with 0 Axes>"
      ]
     },
     "metadata": {},
     "output_type": "display_data"
    }
   ],
   "source": [
    "# your code \n",
    " \n",
    "import thinkstats2 as ts\n",
    "import thinkplot as tp\n",
    "\n",
    "poppmf = ts.Cdf(pop_df['artist_popularity'], label = 'Pop')\n",
    "tp.Cdf(poppmf)\n",
    "\n",
    "rockpmf = ts.Cdf(rock_df['artist_popularity'], label = 'Rock')\n",
    "tp.Cdf(rockpmf)\n",
    "\n",
    "jazzpmf = ts.Cdf(jazz_df['artist_popularity'], label = 'Jazz')\n",
    "tp.Cdf(jazzpmf)\n",
    "\n",
    "indiepmf = ts.Cdf(indie_df['artist_popularity'], label = 'Indie')\n",
    "tp.Cdf(indiepmf)\n",
    "\n",
    "hhpmf = ts.Cdf(hiphop_df['artist_popularity'], label = \"Hip-Hop\")\n",
    "tp.Cdf(hhpmf)\n",
    "\n",
    "NGPMF = ts.Cdf(nogenre_df['artist_popularity'], label = 'No Genre')\n",
    "tp.Cdf(NGPMF)\n",
    "\n",
    "tp.config(xlabel = 'Artist Popularity', ylabel = 'Probability')\n",
    "tp.show()"
   ]
  },
  {
   "cell_type": "markdown",
   "metadata": {},
   "source": [
    "**Q3.5** From the CDF plots, what can you infer? \n",
    "\n",
    "**Answer:** The probability of the artists popularity is higher than the rest until around 60 "
   ]
  },
  {
   "cell_type": "code",
   "execution_count": 14,
   "metadata": {},
   "outputs": [],
   "source": [
    "# intentionally left blank"
   ]
  },
  {
   "cell_type": "markdown",
   "metadata": {},
   "source": [
    "**Q4.**  Danceability  has been defined as a property that indicates how suitable a piece of music is to dance based on various audio features such as tempo, loudness, valence (i.e. musical positiveness of emotion) and speechiness etc. In the next few questions, you will try to determine the features that have the most influence on danceability.\n",
    "\n",
    "Use *tracks_df* to answer these questions. Filter out any record with danceability 0 or less, before proceeding."
   ]
  },
  {
   "cell_type": "markdown",
   "metadata": {},
   "source": [
    "**Q4.1** Plot a scatterplot of the danceability of the tracks (on the x-axis) and their tempo (on the y-axis), then calculate Pearson’s Correlation Coefficient. "
   ]
  },
  {
   "cell_type": "code",
   "execution_count": 60,
   "metadata": {},
   "outputs": [
    {
     "name": "stderr",
     "output_type": "stream",
     "text": [
      "No handles with labels found to put in legend.\n"
     ]
    },
    {
     "data": {
      "image/png": "[encoded data removed]",
      "text/plain": [
       "<Figure size 432x288 with 1 Axes>"
      ]
     },
     "metadata": {
      "needs_background": "light"
     },
     "output_type": "display_data"
    },
    {
     "name": "stdout",
     "output_type": "stream",
     "text": [
      "PCC =   -0.03480840591508537\n"
     ]
    },
    {
     "data": {
      "text/plain": [
       "<Figure size 576x432 with 0 Axes>"
      ]
     },
     "metadata": {},
     "output_type": "display_data"
    }
   ],
   "source": [
    "# your code\n",
    "dandf = tracks_df[tracks_df.danceability != 0].reset_index()\n",
    "tp.Scatter(dandf['danceability'], dandf['tempo'])\n",
    "tp.Show(xlabel = 'Danceability', ylabel = 'Tempo')\n",
    "print(\"PCC =  \", ts.Corr(dandf['danceability'], dandf['tempo']))"
   ]
  },
  {
   "cell_type": "markdown",
   "metadata": {},
   "source": [
    "**Q4.2** Plot a scatterplot of the danceability of the tracks (on the x-axis) and their valence (on the y-axis), then calculate Pearson’s Correlation Coefficient. "
   ]
  },
  {
   "cell_type": "code",
   "execution_count": 62,
   "metadata": {},
   "outputs": [
    {
     "name": "stderr",
     "output_type": "stream",
     "text": [
      "No handles with labels found to put in legend.\n"
     ]
    },
    {
     "data": {
      "image/png": "[encoded data removed]",
      "text/plain": [
       "<Figure size 432x288 with 1 Axes>"
      ]
     },
     "metadata": {
      "needs_background": "light"
     },
     "output_type": "display_data"
    },
    {
     "name": "stdout",
     "output_type": "stream",
     "text": [
      "PCC =   0.5163542935179823\n"
     ]
    },
    {
     "data": {
      "text/plain": [
       "<Figure size 576x432 with 0 Axes>"
      ]
     },
     "metadata": {},
     "output_type": "display_data"
    }
   ],
   "source": [
    "# your code\n",
    "tp.Scatter(dandf['danceability'], dandf['valence'])\n",
    "tp.Show(xlabel = 'Danceability', ylabel = 'Valence')\n",
    "print(\"PCC =  \", ts.Corr(dandf['danceability'], dandf['valence']))\n"
   ]
  },
  {
   "cell_type": "markdown",
   "metadata": {},
   "source": [
    "**Q4.3** Plot a scatterplot of the danceability of the tracks (on the x-axis) and their loudness (on the y-axis), then calculate Pearson’s Correlation Coefficient. "
   ]
  },
  {
   "cell_type": "code",
   "execution_count": 63,
   "metadata": {},
   "outputs": [
    {
     "name": "stderr",
     "output_type": "stream",
     "text": [
      "No handles with labels found to put in legend.\n"
     ]
    },
    {
     "data": {
      "image/png": "[encoded data removed]",
      "text/plain": [
       "<Figure size 432x288 with 1 Axes>"
      ]
     },
     "metadata": {
      "needs_background": "light"
     },
     "output_type": "display_data"
    },
    {
     "name": "stdout",
     "output_type": "stream",
     "text": [
      "PCC =   0.3341495078854282\n"
     ]
    },
    {
     "data": {
      "text/plain": [
       "<Figure size 576x432 with 0 Axes>"
      ]
     },
     "metadata": {},
     "output_type": "display_data"
    }
   ],
   "source": [
    "# your code\n",
    "\n",
    "dandf = tracks_df[tracks_df.danceability != 0].reset_index()\n",
    "tp.Scatter(dandf['danceability'], dandf['loudness'])\n",
    "tp.Show(xlabel = 'Danceability', ylabel = 'Loudness')\n",
    "print(\"PCC =  \", ts.Corr(dandf['danceability'], dandf['loudness']))"
   ]
  },
  {
   "cell_type": "markdown",
   "metadata": {},
   "source": [
    "**Q4.4** From the above plots, what can you infer? Which feature of a track has the most influence on its danceability?\n",
    "\n",
    "**Answer:** I have no idea but I think it is the loudness because it looks like loudness because it looks like we should keep it in the range of 0 to -10"
   ]
  }
 ],
 "metadata": {
  "kernelspec": {
   "display_name": "Python 3",
   "language": "python",
   "name": "python3"
  },
  "language_info": {
   "codemirror_mode": {
    "name": "ipython",
    "version": 3
   },
   "file_extension": ".py",
   "mimetype": "text/x-python",
   "name": "python",
   "nbconvert_exporter": "python",
   "pygments_lexer": "ipython3",
   "version": "3.8.8"
  }
 },
 "nbformat": 4,
 "nbformat_minor": 2
}
