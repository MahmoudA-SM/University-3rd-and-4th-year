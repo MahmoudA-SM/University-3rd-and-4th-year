{
 "cells": [
  {
   "cell_type": "markdown",
   "id": "63fa3ade",
   "metadata": {},
   "source": [
    "# Hands-on 1\n",
    "\n",
    "### CS2545 - Data Science ###\n",
    "### Fall, 2021 ###\n",
    "### UNB, Fredericton ###\n",
    "\n",
    "Please complete the following tasks per instructions provided. Please complete the following and submit this notebook (filename: handson1-**lastname**-**firstname**.ipynb) to D2L by 5 pm, September 23. \n",
    "</br>\n",
    "</br>\n",
    "</br>\n"
   ]
  },
  {
   "cell_type": "markdown",
   "id": "d7457277",
   "metadata": {},
   "source": [
    "**1.** The list *polygons_lst* below contains the names of the polygons with the number sides varied from 3 to 15. For instance, Hexagon is a polygon with number of sides 6.\n",
    "\n",
    "**1.a** Using list slicing print the last 4 entries in *polygons_lst*. \n",
    "\n",
    "\n",
    "**1.b** Write Python code that iterates over the elements of *polygons_lst* and  prints each element (i.e. string) and its string length and the number of sides.  For instance: <br>\n",
    "Triangle: 8, 3 <br>\n",
    "Square: 6, 4 <br>"
   ]
  },
  {
   "cell_type": "code",
   "execution_count": 1,
   "id": "d3f5999f",
   "metadata": {},
   "outputs": [
    {
     "name": "stdout",
     "output_type": "stream",
     "text": [
      "['Dodecagon', 'Tridecagon', 'Tetradecagon', 'Pentadecagon']\n",
      "Triangle: 8, 3\n",
      "Square: 6, 4\n",
      "Pentagon: 8, 5\n",
      "Hexagon: 7, 6\n",
      "Heptagon: 8, 7\n",
      "Octagon: 7, 8\n",
      "Nonagon: 7, 9\n",
      "Decagon: 7, 10\n",
      "Hendecagon: 10, 11\n",
      "Dodecagon: 9, 12\n",
      "Tridecagon: 10, 13\n",
      "Tetradecagon: 12, 14\n",
      "Pentadecagon: 12, 15\n"
     ]
    }
   ],
   "source": [
    "polygons_lst = ['Triangle', 'Square', 'Pentagon', 'Hexagon', 'Heptagon', 'Octagon', 'Nonagon', 'Decagon', 'Hendecagon', 'Dodecagon', 'Tridecagon', 'Tetradecagon', 'Pentadecagon']\n",
    "\n",
    "# write your code below\n",
    "\n",
    "# 1.a) \n",
    "\n",
    "print (polygons_lst[9:])\n",
    "\n",
    "# 1.b) \n",
    "\n",
    "numSides = 3\n",
    "for i in range(0,13):\n",
    "    print(polygons_lst[i]+\": \" + str(len(polygons_lst[i])) + \", \" + str(numSides))\n",
    "    numSides = numSides + 1"
   ]
  },
  {
   "cell_type": "code",
   "execution_count": 12,
   "id": "d95ea4b9",
   "metadata": {},
   "outputs": [
    {
     "ename": "SyntaxError",
     "evalue": "invalid syntax (<ipython-input-12-1c3bdf24183b>, line 1)",
     "output_type": "error",
     "traceback": [
      "\u001b[1;36m  File \u001b[1;32m\"<ipython-input-12-1c3bdf24183b>\"\u001b[1;36m, line \u001b[1;32m1\u001b[0m\n\u001b[1;33m    **Example code**  The following code snippet uses Python graphics library Turtle. Execute the code. There will be a pop-up window where the image will be rendered.\u001b[0m\n\u001b[1;37m    ^\u001b[0m\n\u001b[1;31mSyntaxError\u001b[0m\u001b[1;31m:\u001b[0m invalid syntax\n"
     ]
    }
   ],
   "source": [
    "# **Example code**  The following code snippet uses Python graphics library Turtle. Execute the code. There will be a pop-up window where the image will be rendered.\n",
    "\n",
    "# More info about Turtle library is here: https://docs.python.org/3.8/library/turtle.html"
   ]
  },
  {
   "cell_type": "code",
   "execution_count": 5,
   "id": "fbaa6251",
   "metadata": {},
   "outputs": [],
   "source": [
    "import turtle\n",
    "\n",
    "\n",
    "polygon = turtle.Turtle() \n",
    "  \n",
    "    \n",
    "side_length = 100\n",
    "angle = 360.0 / 3  \n",
    "  \n",
    "polygon.forward(side_length) \n",
    "polygon.right(angle) \n",
    "\n",
    "polygon.forward(side_length) \n",
    "polygon.right(angle) \n",
    "\n",
    "polygon.forward(side_length) \n",
    "polygon.right(angle) \n",
    "\n",
    "\n",
    "# close resources properly \n",
    "# https://stackoverflow.com/questions/7217405/turtle-graphics-not-responding\n",
    "polygon.hideturtle()\n",
    "turtle.done() \n",
    "try:\n",
    "    turtle.bye()   \n",
    "except turtle.Terminator:\n",
    "    pass"
   ]
  },
  {
   "cell_type": "markdown",
   "id": "e9124150",
   "metadata": {},
   "source": [
    "**2.** Modifying the example code above, write code to draw a polygon with the number of sides based on user input *strNS*. Here, the *strNS* is the number of sides in the polygon to draw. Your code should do the following.\n",
    "\n",
    "First, print the name of the polygon representing the polygon with number of sides based on user input (e.g. 'Square' for number of sides 4).\n",
    "\n",
    "Then, draw a polygon with the number of sides based on user input."
   ]
  },
  {
   "cell_type": "code",
   "execution_count": 4,
   "id": "d0d7fe15",
   "metadata": {
    "scrolled": true
   },
   "outputs": [
    {
     "name": "stdout",
     "output_type": "stream",
     "text": [
      "Input number of sides:15\n",
      "Number of sides = 15\n",
      "The name of the polygon is: Pentadecagon\n"
     ]
    }
   ],
   "source": [
    "import turtle\n",
    "\n",
    "  \n",
    "strNS = input(\"Input number of sides:\")\n",
    "num_sides = int(strNS)\n",
    "print (\"Number of sides =\", num_sides)\n",
    "if num_sides not in range (3,16):\n",
    "    print (\"Out of range\")\n",
    "else:    \n",
    "    \n",
    "    # write your code below\n",
    "    \n",
    "    polygons = {3: \"Triangle\", 4: \"Square\", 5: \"Pentagon\", 6: \"Hexagon\", 7: \"Heptagon\", 8: \"Octagon\", 9: \"Nonagon\", 10: \"Decagon\",\n",
    "                11: \"Hendecagon\", 12: \"Dodecagon\", 13: \"Tridecagon\", 14: \"Tetradecagon\", 15: \"Pentadecagon\"}\n",
    "    \n",
    "    # print the name of the polygon with the user specified number of sides\n",
    "    \n",
    "    print (\"The name of the polygon is: \" + polygons[num_sides])\n",
    "   \n",
    "    # draw the polygon with the user specified number of sides\n",
    "    polygon = turtle.Turtle() \n",
    "  \n",
    "    \n",
    "    side_length = 50\n",
    "    angle = 360.0 / num_sides  \n",
    "    \n",
    "    for i in range (0, num_sides):\n",
    "        \n",
    "        polygon.forward(side_length) \n",
    "        polygon.right(angle) \n",
    "    \n",
    "\n",
    "\n",
    "    # close resources properly \n",
    "    # https://stackoverflow.com/questions/7217405/turtle-graphics-not-responding\n",
    "    polygon.hideturtle()\n",
    "    turtle.done() \n",
    "    try:\n",
    "        turtle.bye()   \n",
    "    except turtle.Terminator:\n",
    "        pass\n",
    "    "
   ]
  },
  {
   "cell_type": "code",
   "execution_count": null,
   "id": "4972fce8",
   "metadata": {},
   "outputs": [],
   "source": []
  },
  {
   "cell_type": "code",
   "execution_count": null,
   "id": "1e39b49a",
   "metadata": {},
   "outputs": [],
   "source": []
  },
  {
   "cell_type": "code",
   "execution_count": null,
   "id": "80fb70ed",
   "metadata": {},
   "outputs": [],
   "source": []
  },
  {
   "cell_type": "code",
   "execution_count": null,
   "id": "9c33abfd",
   "metadata": {},
   "outputs": [],
   "source": []
  },
  {
   "cell_type": "code",
   "execution_count": null,
   "id": "3a162db9",
   "metadata": {},
   "outputs": [],
   "source": []
  },
  {
   "cell_type": "code",
   "execution_count": null,
   "id": "c93fa0c5",
   "metadata": {},
   "outputs": [],
   "source": []
  },
  {
   "cell_type": "code",
   "execution_count": null,
   "id": "5435197a",
   "metadata": {},
   "outputs": [],
   "source": []
  }
 ],
 "metadata": {
  "kernelspec": {
   "display_name": "Python 3",
   "language": "python",
   "name": "python3"
  },
  "language_info": {
   "codemirror_mode": {
    "name": "ipython",
    "version": 3
   },
   "file_extension": ".py",
   "mimetype": "text/x-python",
   "name": "python",
   "nbconvert_exporter": "python",
   "pygments_lexer": "ipython3",
   "version": "3.8.8"
  }
 },
 "nbformat": 4,
 "nbformat_minor": 5
}
