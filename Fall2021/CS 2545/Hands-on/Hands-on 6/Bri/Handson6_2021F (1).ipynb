{
 "cells": [
  {
   "cell_type": "markdown",
   "metadata": {},
   "source": [
    "# Hands-on 6\n",
    "\n",
    "### CS2545 - Data Science ###\n",
    "### Fall, 2021 ###\n",
    "### UNB, Fredericton ###\n",
    "\n",
    "Please complete the following and submit this notebook (filename: handson6-**lastname**-**firstname**.ipynb) to D2L by 5:00 pm, Monday, December 6. \n",
    "</br>\n",
    "</br>\n",
    "</br>"
   ]
  },
  {
   "cell_type": "markdown",
   "metadata": {},
   "source": [
    "**Q1.** Download *files.zip*  from D2L and unzip it. The data file *heartdev.csv* contains observations regarding several clinical features for predicting heart disease events. \n",
    "\n",
    "Note that the meaning of some of the column labels are specified below: <br>\n",
    "RestingBP - resting blood pressure <br>\n",
    "Cholesterol - serum cholesterol <br>\n",
    "FastingBS - fasting blood sugar <br>\n",
    "RestingECG - resting electrocardiogram results <br>\n",
    "MaxHR - maximum heart rate achieved <br>\n",
    "ExerciseAngina - exercise induced angina <br>\n",
    "ST_Slope - the slope of the peak exercise ST segment\n",
    "\n",
    "\n",
    "Filter out (i.e. remove) the records with cholesterol level 0 and then show the first 5 records."
   ]
  },
  {
   "cell_type": "code",
   "execution_count": 13,
   "metadata": {},
   "outputs": [
    {
     "data": {
      "text/html": [
       "<div>\n",
       "<style scoped>\n",
       "    .dataframe tbody tr th:only-of-type {\n",
       "        vertical-align: middle;\n",
       "    }\n",
       "\n",
       "    .dataframe tbody tr th {\n",
       "        vertical-align: top;\n",
       "    }\n",
       "\n",
       "    .dataframe thead th {\n",
       "        text-align: right;\n",
       "    }\n",
       "</style>\n",
       "<table border=\"1\" class=\"dataframe\">\n",
       "  <thead>\n",
       "    <tr style=\"text-align: right;\">\n",
       "      <th></th>\n",
       "      <th>Age</th>\n",
       "      <th>Sex</th>\n",
       "      <th>ChestPainType</th>\n",
       "      <th>RestingBP</th>\n",
       "      <th>Cholesterol</th>\n",
       "      <th>FastingBS</th>\n",
       "      <th>RestingECG</th>\n",
       "      <th>MaxHR</th>\n",
       "      <th>ExerciseAngina</th>\n",
       "      <th>Oldpeak</th>\n",
       "      <th>ST_Slope</th>\n",
       "      <th>HeartDisease</th>\n",
       "    </tr>\n",
       "  </thead>\n",
       "  <tbody>\n",
       "    <tr>\n",
       "      <th>0</th>\n",
       "      <td>40</td>\n",
       "      <td>M</td>\n",
       "      <td>ATA</td>\n",
       "      <td>140</td>\n",
       "      <td>289</td>\n",
       "      <td>0</td>\n",
       "      <td>Normal</td>\n",
       "      <td>172</td>\n",
       "      <td>N</td>\n",
       "      <td>0.0</td>\n",
       "      <td>Up</td>\n",
       "      <td>0</td>\n",
       "    </tr>\n",
       "    <tr>\n",
       "      <th>1</th>\n",
       "      <td>49</td>\n",
       "      <td>F</td>\n",
       "      <td>NAP</td>\n",
       "      <td>160</td>\n",
       "      <td>180</td>\n",
       "      <td>0</td>\n",
       "      <td>Normal</td>\n",
       "      <td>156</td>\n",
       "      <td>N</td>\n",
       "      <td>1.0</td>\n",
       "      <td>Flat</td>\n",
       "      <td>1</td>\n",
       "    </tr>\n",
       "    <tr>\n",
       "      <th>2</th>\n",
       "      <td>37</td>\n",
       "      <td>M</td>\n",
       "      <td>ATA</td>\n",
       "      <td>130</td>\n",
       "      <td>283</td>\n",
       "      <td>0</td>\n",
       "      <td>ST</td>\n",
       "      <td>98</td>\n",
       "      <td>N</td>\n",
       "      <td>0.0</td>\n",
       "      <td>Up</td>\n",
       "      <td>0</td>\n",
       "    </tr>\n",
       "    <tr>\n",
       "      <th>3</th>\n",
       "      <td>48</td>\n",
       "      <td>F</td>\n",
       "      <td>ASY</td>\n",
       "      <td>138</td>\n",
       "      <td>214</td>\n",
       "      <td>0</td>\n",
       "      <td>Normal</td>\n",
       "      <td>108</td>\n",
       "      <td>Y</td>\n",
       "      <td>1.5</td>\n",
       "      <td>Flat</td>\n",
       "      <td>1</td>\n",
       "    </tr>\n",
       "    <tr>\n",
       "      <th>4</th>\n",
       "      <td>54</td>\n",
       "      <td>M</td>\n",
       "      <td>NAP</td>\n",
       "      <td>150</td>\n",
       "      <td>195</td>\n",
       "      <td>0</td>\n",
       "      <td>Normal</td>\n",
       "      <td>122</td>\n",
       "      <td>N</td>\n",
       "      <td>0.0</td>\n",
       "      <td>Up</td>\n",
       "      <td>0</td>\n",
       "    </tr>\n",
       "  </tbody>\n",
       "</table>\n",
       "</div>"
      ],
      "text/plain": [
       "   Age Sex ChestPainType  RestingBP  Cholesterol  FastingBS RestingECG  MaxHR  \\\n",
       "0   40   M           ATA        140          289          0     Normal    172   \n",
       "1   49   F           NAP        160          180          0     Normal    156   \n",
       "2   37   M           ATA        130          283          0         ST     98   \n",
       "3   48   F           ASY        138          214          0     Normal    108   \n",
       "4   54   M           NAP        150          195          0     Normal    122   \n",
       "\n",
       "  ExerciseAngina  Oldpeak ST_Slope  HeartDisease  \n",
       "0              N      0.0       Up             0  \n",
       "1              N      1.0     Flat             1  \n",
       "2              N      0.0       Up             0  \n",
       "3              Y      1.5     Flat             1  \n",
       "4              N      0.0       Up             0  "
      ]
     },
     "execution_count": 13,
     "metadata": {},
     "output_type": "execute_result"
    }
   ],
   "source": [
    "import thinkstats2\n",
    "import thinkplot\n",
    "import pandas as pd\n",
    "\n",
    "heart_df = pd.read_csv('heartdev.csv', delimiter=',')\n",
    "\n",
    "# your code below\n",
    "\n",
    "heart_df = heart_df[heart_df['Cholesterol'] != 0]\n",
    "heart_df.head()\n",
    "           \n",
    "\n",
    " \n"
   ]
  },
  {
   "cell_type": "markdown",
   "metadata": {},
   "source": [
    "**Q1.1**  Plot the Probability Mass Functions (PMF) of the cholesterol levels for both males and females who are 50 years or above. So, there will be 2 PMF plots in a single figure corresponding to the males and females."
   ]
  },
  {
   "cell_type": "code",
   "execution_count": 14,
   "metadata": {},
   "outputs": [
    {
     "data": {
      "image/png": "[encoded data removed]",
      "text/plain": [
       "<Figure size 432x288 with 1 Axes>"
      ]
     },
     "metadata": {
      "needs_background": "light"
     },
     "output_type": "display_data"
    }
   ],
   "source": [
    "# your code below\n",
    "\n",
    "over50 = heart_df[heart_df['Age'] >= 50]\n",
    "males = over50[over50['Sex'] == 'M']\n",
    "females = over50[over50['Sex'] == 'F']\n",
    "\n",
    "#the pmf is normalized with the thinkstats2.Pmf\n",
    "femalesPmf = thinkstats2.Pmf(females['Cholesterol'], label = \"Females\")\n",
    "malesPmf =  thinkstats2.Pmf(males['Cholesterol'], label = \"Males\")\n",
    "\n",
    "thinkplot.Hist(femalesPmf, align='right', width = 2)\n",
    "thinkplot.Hist(malesPmf, align='left', width = 2)\n",
    "thinkplot.Config(xlabel='Cholesterol Levels',ylabel='probability', title='Probability of Cholesterol Levels for both Males and Females who are over 50');\n",
    "\n",
    "\n"
   ]
  },
  {
   "cell_type": "markdown",
   "metadata": {},
   "source": [
    "**Q1.2**  Plot the Cummulative Distribution Functions (CDF) of the cholesterol levels for both males and females who are 50 years or above. So, there will be 2 CDF plots in a single figure corresponding to the males and females."
   ]
  },
  {
   "cell_type": "code",
   "execution_count": 15,
   "metadata": {},
   "outputs": [
    {
     "data": {
      "image/png": "[encoded data removed]",
      "text/plain": [
       "<Figure size 432x288 with 1 Axes>"
      ]
     },
     "metadata": {
      "needs_background": "light"
     },
     "output_type": "display_data"
    }
   ],
   "source": [
    "# your code below\n",
    "femalesCDF = thinkstats2.Cdf(females['Cholesterol'], label = \"Females\")\n",
    "malesCDF =  thinkstats2.Cdf(males['Cholesterol'], label = \"Males\")\n",
    "                            \n",
    "thinkplot.Cdf(femalesCDF)\n",
    "thinkplot.Cdf(malesCDF)\n",
    "\n",
    "thinkplot.Config(xlabel='Cholesterol Levels', ylabel='CDF', title='CDF of Cholesterol Levels for both Males and Females who are over 50');\n",
    "\n"
   ]
  },
  {
   "cell_type": "markdown",
   "metadata": {},
   "source": [
    "**Q1.3** What do you conclude from Q1.1 and Q1.2?\n"
   ]
  },
  {
   "cell_type": "code",
   "execution_count": null,
   "metadata": {},
   "outputs": [],
   "source": [
    "# your answer below\n",
    "I have concluded that the plot of a CDF is much easier to determine that males tend to have cholesteral values that are less than that of females. "
   ]
  },
  {
   "cell_type": "markdown",
   "metadata": {},
   "source": [
    "**Q2.**  Plot a scatter plot of the cholesterol level  (on x-axis)  of people regardless of the gender that are 50 years old or above and their corresponding maximum heart rate i.e. MaxHR (on y-axis).\n",
    "\n",
    "\n",
    "Then calculate the Pearson’s Correlation Coefficient.\n"
   ]
  },
  {
   "cell_type": "code",
   "execution_count": 16,
   "metadata": {},
   "outputs": [
    {
     "name": "stderr",
     "output_type": "stream",
     "text": [
      "No artists with labels found to put in legend.  Note that artists whose label start with an underscore are ignored when legend() is called with no argument.\n"
     ]
    },
    {
     "data": {
      "image/png": "[encoded data removed]",
      "text/plain": [
       "<Figure size 432x288 with 1 Axes>"
      ]
     },
     "metadata": {
      "needs_background": "light"
     },
     "output_type": "display_data"
    },
    {
     "data": {
      "text/plain": [
       "<Figure size 576x432 with 0 Axes>"
      ]
     },
     "metadata": {},
     "output_type": "display_data"
    }
   ],
   "source": [
    "# your code below\n",
    "\n",
    "MaxHRValue = over50['MaxHR']\n",
    "cholesterol = over50['Cholesterol']\n",
    "\n",
    "thinkplot.Scatter(cholesterol, MaxHRValue)\n",
    "thinkplot.Show(xlabel='Cholesteral Level',\n",
    "ylabel='Max Heart Rate',\n",
    "axis=[140, 210, 20, 200])"
   ]
  },
  {
   "cell_type": "code",
   "execution_count": null,
   "metadata": {},
   "outputs": [],
   "source": []
  }
 ],
 "metadata": {
  "anaconda-cloud": {},
  "kernelspec": {
   "display_name": "Python 3",
   "language": "python",
   "name": "python3"
  },
  "language_info": {
   "codemirror_mode": {
    "name": "ipython",
    "version": 3
   },
   "file_extension": ".py",
   "mimetype": "text/x-python",
   "name": "python",
   "nbconvert_exporter": "python",
   "pygments_lexer": "ipython3",
   "version": "3.8.8"
  }
 },
 "nbformat": 4,
 "nbformat_minor": 1
}
