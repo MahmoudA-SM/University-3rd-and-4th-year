{
 "cells": [
  {
   "cell_type": "markdown",
   "metadata": {},
   "source": [
    "# Hands-on 5\n",
    "\n",
    "### CS2545 - Data Science ###\n",
    "### Fall, 2021 ###\n",
    "### UNB, Fredericton ###\n",
    "\n",
    "Please complete the following and submit this notebook (filename: handson5-**lastname**-**firstname**.ipynb) to D2L by 5:00 pm, Monday, November 22. \n",
    "</br>\n",
    "</br>\n",
    "</br>"
   ]
  },
  {
   "cell_type": "markdown",
   "metadata": {},
   "source": [
    "**Q1.** Download *user.csv*  from hands-on4. The entries in *user*  represent movie reviewers.\n",
    "\n",
    "Then download the *rating.csv* from hands-on4.  The entries in *rating* represents the movie ratings given by these reviewers. \n",
    "\n",
    "\n",
    "Finally, join these two data frames to create a new data frame *rated_by*."
   ]
  },
  {
   "cell_type": "code",
   "execution_count": 4,
   "metadata": {},
   "outputs": [],
   "source": [
    "import pandas as pd\n",
    "import numpy as np\n",
    "import matplotlib.pyplot as plt\n",
    "\n",
    "u_cols = ['user_id', 'age', 'sex', 'occupation', 'zip_code']\n",
    "user = pd.read_csv('user.csv', sep='|', names=u_cols)\n",
    "\n",
    "r_cols = ['user_id', 'movie_id', 'rating', 'unix_timestamp']\n",
    "rating = pd.read_csv('rating.csv', sep='\\t', names=r_cols)\n",
    "\n",
    "# write your code below\n",
    "rated_by = pd.merge(user,rating)"
   ]
  },
  {
   "cell_type": "markdown",
   "metadata": {},
   "source": [
    "**Q1.1.**  Plot a chart with two subplots in a  2 x 1 (i.e. 2 rows and 1 column) layout. Hence, there will be two subplots one on top of the other. The x-axis label should be 'occupation' and shared by both the subplots. The title should appear above the top subplot and it will be 'Movie rating by occupation'.\n",
    "\n",
    "In the top subplot, plot a bar graph of the number of movie rating attributed to each occupation. The y-axis label should be  'count rating'.\n",
    "\n",
    "In the bottom subplot, plot a bar graph of the average movie rating attributed to each occupation. The y-axis label should be  'mean rating'."
   ]
  },
  {
   "cell_type": "code",
   "execution_count": 23,
   "metadata": {},
   "outputs": [
    {
     "data": {
      "text/plain": [
       "Text(0.5, 1.0, 'Movie rating by occupation')"
      ]
     },
     "execution_count": 23,
     "metadata": {},
     "output_type": "execute_result"
    },
    {
     "data": {
      "image/png": "[encoded data removed]",
      "text/plain": [
       "<Figure size 432x288 with 2 Axes>"
      ]
     },
     "metadata": {
      "needs_background": "light"
     },
     "output_type": "display_data"
    }
   ],
   "source": [
    "# write your code below\n",
    "import matplotlib.pyplot as plt\n",
    "%matplotlib inline\n",
    "fig, ax = plt.subplots(2, 1, sharex = True)\n",
    "plt.xlabel('occupation')\n",
    "ax[0].set_title('Movie rating by occupation')\n",
    "\n"
   ]
  },
  {
   "cell_type": "markdown",
   "metadata": {},
   "source": [
    "**Q2.** The purpose of this question is to familiarize you with the  National Survey of Family Growth (NSFG) dataset used in the textbook. \n",
    "\n",
    "Download the codendata.zip by running the commands below in a Terminal shell (on Linux) or clicking the link (on Windows): <br>\n",
    "wget www.cs.unb.ca/~sray/teaching/datascience/codendata.zip <br>\n",
    "\n",
    "After you unzip it, you will find several files related to code and NSFG dataset. Copy those files in the current folder.\n"
   ]
  },
  {
   "cell_type": "code",
   "execution_count": null,
   "metadata": {},
   "outputs": [],
   "source": [
    "import nsfg\n",
    "\n",
    "nsfg_df = nsfg.ReadFemPreg()\n",
    "\n",
    "nsfg_df.head(5)\n",
    "\n",
    "# execute this code cell"
   ]
  },
  {
   "cell_type": "markdown",
   "metadata": {},
   "source": [
    "**Q2.1** After loading the NSFG dataset, plot a boxplot  of the birth weights for live births. The corresponding column in the data frame is called *birthwgt_lb*."
   ]
  },
  {
   "cell_type": "code",
   "execution_count": 26,
   "metadata": {},
   "outputs": [
    {
     "ename": "NameError",
     "evalue": "name 'nsfg_df' is not defined",
     "output_type": "error",
     "traceback": [
      "\u001b[1;31m---------------------------------------------------------------------------\u001b[0m",
      "\u001b[1;31mNameError\u001b[0m                                 Traceback (most recent call last)",
      "\u001b[1;32m<ipython-input-26-36f4ed0f7c61>\u001b[0m in \u001b[0;36m<module>\u001b[1;34m\u001b[0m\n\u001b[0;32m      2\u001b[0m \u001b[1;33m\u001b[0m\u001b[0m\n\u001b[0;32m      3\u001b[0m \u001b[1;33m\u001b[0m\u001b[0m\n\u001b[1;32m----> 4\u001b[1;33m \u001b[0mnsfg_df\u001b[0m\u001b[1;33m.\u001b[0m\u001b[0mboxplot\u001b[0m\u001b[1;33m(\u001b[0m\u001b[0mcolumn\u001b[0m \u001b[1;33m=\u001b[0m \u001b[1;34m'birthwgt_lb'\u001b[0m\u001b[1;33m)\u001b[0m\u001b[1;33m\u001b[0m\u001b[1;33m\u001b[0m\u001b[0m\n\u001b[0m",
      "\u001b[1;31mNameError\u001b[0m: name 'nsfg_df' is not defined"
     ]
    }
   ],
   "source": [
    "# write your code below\n",
    "\n",
    "\n",
    "nsfg_df.boxplot(column = 'birthwgt_lb')\n"
   ]
  },
  {
   "cell_type": "markdown",
   "metadata": {},
   "source": [
    "**Q2.2** Visually inspect the boxplot to answer the question: what are Q1 and Q3  of the birth weights for live births?\n",
    "\n",
    "*Hint:* refer to lecture slides on Statistics"
   ]
  },
  {
   "cell_type": "markdown",
   "metadata": {},
   "source": [
    "Answer:"
   ]
  },
  {
   "cell_type": "markdown",
   "metadata": {},
   "source": [
    "**Q2.3** \n",
    "Using *thinkstats2* APIs calculate Q1 and Q3 of the birth weights for live births (using the dataframe in Q2.1)?\n",
    "\n",
    "Then calculate the IQR of the  birth weights for live births.\n",
    "\n",
    "*Hint:* Refer to class notes on percentile and percentile rank APIs from Cdf object."
   ]
  },
  {
   "cell_type": "code",
   "execution_count": null,
   "metadata": {},
   "outputs": [],
   "source": [
    "import thinkstats2\n",
    "import thinkplot\n",
    "\n",
    "# write your code below\n",
    "\n",
    "\n"
   ]
  }
 ],
 "metadata": {
  "anaconda-cloud": {},
  "kernelspec": {
   "display_name": "Python 3",
   "language": "python",
   "name": "python3"
  },
  "language_info": {
   "codemirror_mode": {
    "name": "ipython",
    "version": 3
   },
   "file_extension": ".py",
   "mimetype": "text/x-python",
   "name": "python",
   "nbconvert_exporter": "python",
   "pygments_lexer": "ipython3",
   "version": "3.8.8"
  }
 },
 "nbformat": 4,
 "nbformat_minor": 1
}
