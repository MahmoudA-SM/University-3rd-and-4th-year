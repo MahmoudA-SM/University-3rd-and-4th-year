{
 "cells": [
  {
   "cell_type": "markdown",
   "metadata": {},
   "source": [
    "# Hands-on 4\n",
    "\n",
    "### CS2545 - Data Science ###\n",
    "### Fall, 2021 ###\n",
    "### UNB, Fredericton ###\n",
    "\n",
    "Please complete the following and submit this notebook (filename: handson4-**lastname**-**firstname**.ipynb) to D2L by 11:30 am, Friday, October 29. \n",
    "</br>\n",
    "</br>\n",
    "</br>"
   ]
  },
  {
   "cell_type": "markdown",
   "metadata": {},
   "source": [
    "**Q1.** Download *user.csv*  from D2L. The entries in *user*  represent movie reviewers.\n",
    "\n",
    "Add a column to the dataframe called *agegroup*, where the value of *agegroup* is a label based on the following table. Using this table, you can create relevant intervals (i.e. left-open and right-closed intervals).\n",
    "\n",
    "Infant: 0-1 <br>\n",
    "Toddler: 1-3 <br>\n",
    "Children: 3-12 <br>\n",
    "Teen: 12-19  <br>\n",
    "Young-adult: 19-25 <br> \n",
    "Adult: 25 - 65 <br>\n",
    "Senior: 65 - 110 <br>\n",
    "\n",
    "So, someone aged 13 will be labeled 'Teen'\n"
   ]
  },
  {
   "cell_type": "code",
   "execution_count": 2,
   "metadata": {},
   "outputs": [
    {
     "data": {
      "text/html": [
       "<div>\n",
       "<style scoped>\n",
       "    .dataframe tbody tr th:only-of-type {\n",
       "        vertical-align: middle;\n",
       "    }\n",
       "\n",
       "    .dataframe tbody tr th {\n",
       "        vertical-align: top;\n",
       "    }\n",
       "\n",
       "    .dataframe thead th {\n",
       "        text-align: right;\n",
       "    }\n",
       "</style>\n",
       "<table border=\"1\" class=\"dataframe\">\n",
       "  <thead>\n",
       "    <tr style=\"text-align: right;\">\n",
       "      <th></th>\n",
       "      <th>user_id</th>\n",
       "      <th>age</th>\n",
       "      <th>sex</th>\n",
       "      <th>occupation</th>\n",
       "      <th>zip_code</th>\n",
       "      <th>agegroup</th>\n",
       "    </tr>\n",
       "  </thead>\n",
       "  <tbody>\n",
       "    <tr>\n",
       "      <th>0</th>\n",
       "      <td>1</td>\n",
       "      <td>24</td>\n",
       "      <td>M</td>\n",
       "      <td>technician</td>\n",
       "      <td>85711</td>\n",
       "      <td>young-adult</td>\n",
       "    </tr>\n",
       "    <tr>\n",
       "      <th>1</th>\n",
       "      <td>2</td>\n",
       "      <td>53</td>\n",
       "      <td>F</td>\n",
       "      <td>other</td>\n",
       "      <td>94043</td>\n",
       "      <td>adult</td>\n",
       "    </tr>\n",
       "    <tr>\n",
       "      <th>2</th>\n",
       "      <td>3</td>\n",
       "      <td>23</td>\n",
       "      <td>M</td>\n",
       "      <td>writer</td>\n",
       "      <td>32067</td>\n",
       "      <td>young-adult</td>\n",
       "    </tr>\n",
       "    <tr>\n",
       "      <th>3</th>\n",
       "      <td>4</td>\n",
       "      <td>24</td>\n",
       "      <td>M</td>\n",
       "      <td>technician</td>\n",
       "      <td>43537</td>\n",
       "      <td>young-adult</td>\n",
       "    </tr>\n",
       "    <tr>\n",
       "      <th>4</th>\n",
       "      <td>5</td>\n",
       "      <td>33</td>\n",
       "      <td>F</td>\n",
       "      <td>other</td>\n",
       "      <td>15213</td>\n",
       "      <td>adult</td>\n",
       "    </tr>\n",
       "    <tr>\n",
       "      <th>...</th>\n",
       "      <td>...</td>\n",
       "      <td>...</td>\n",
       "      <td>...</td>\n",
       "      <td>...</td>\n",
       "      <td>...</td>\n",
       "      <td>...</td>\n",
       "    </tr>\n",
       "    <tr>\n",
       "      <th>938</th>\n",
       "      <td>939</td>\n",
       "      <td>26</td>\n",
       "      <td>F</td>\n",
       "      <td>student</td>\n",
       "      <td>33319</td>\n",
       "      <td>adult</td>\n",
       "    </tr>\n",
       "    <tr>\n",
       "      <th>939</th>\n",
       "      <td>940</td>\n",
       "      <td>32</td>\n",
       "      <td>M</td>\n",
       "      <td>administrator</td>\n",
       "      <td>02215</td>\n",
       "      <td>adult</td>\n",
       "    </tr>\n",
       "    <tr>\n",
       "      <th>940</th>\n",
       "      <td>941</td>\n",
       "      <td>20</td>\n",
       "      <td>M</td>\n",
       "      <td>student</td>\n",
       "      <td>97229</td>\n",
       "      <td>young-adult</td>\n",
       "    </tr>\n",
       "    <tr>\n",
       "      <th>941</th>\n",
       "      <td>942</td>\n",
       "      <td>48</td>\n",
       "      <td>F</td>\n",
       "      <td>librarian</td>\n",
       "      <td>78209</td>\n",
       "      <td>adult</td>\n",
       "    </tr>\n",
       "    <tr>\n",
       "      <th>942</th>\n",
       "      <td>943</td>\n",
       "      <td>22</td>\n",
       "      <td>M</td>\n",
       "      <td>student</td>\n",
       "      <td>77841</td>\n",
       "      <td>young-adult</td>\n",
       "    </tr>\n",
       "  </tbody>\n",
       "</table>\n",
       "<p>943 rows × 6 columns</p>\n",
       "</div>"
      ],
      "text/plain": [
       "     user_id  age sex     occupation zip_code     agegroup\n",
       "0          1   24   M     technician    85711  young-adult\n",
       "1          2   53   F          other    94043        adult\n",
       "2          3   23   M         writer    32067  young-adult\n",
       "3          4   24   M     technician    43537  young-adult\n",
       "4          5   33   F          other    15213        adult\n",
       "..       ...  ...  ..            ...      ...          ...\n",
       "938      939   26   F        student    33319        adult\n",
       "939      940   32   M  administrator    02215        adult\n",
       "940      941   20   M        student    97229  young-adult\n",
       "941      942   48   F      librarian    78209        adult\n",
       "942      943   22   M        student    77841  young-adult\n",
       "\n",
       "[943 rows x 6 columns]"
      ]
     },
     "execution_count": 2,
     "metadata": {},
     "output_type": "execute_result"
    }
   ],
   "source": [
    "import pandas as pd\n",
    "import numpy as np\n",
    "\n",
    "u_cols = ['user_id', 'age', 'sex', 'occupation', 'zip_code']\n",
    "user = pd.read_csv('user.csv', sep='|', names=u_cols)\n",
    "\n",
    "\n",
    "# write your code below\n",
    "def getagegroup(age) -> str:\n",
    "    ag =''\n",
    "    if(age >=0 and age <= 1):\n",
    "        ag = 'infant'\n",
    "    if(age >1 and age <=3):\n",
    "        ag = 'toddler'\n",
    "    if(age >3 and age<= 12):\n",
    "        ag='children'\n",
    "    if (age>12 and age <= 19):\n",
    "        ag ='teen'\n",
    "    if(age>19 and age<=25):\n",
    "        ag='young-adult'\n",
    "    if(age>25 and age <=65):\n",
    "        ag = 'adult'\n",
    "    if(age>65 and age<=110):\n",
    "        ag = 'senior'\n",
    "    return ag\n",
    "user['agegroup'] = user['age'].apply(getagegroup)\n",
    "user"
   ]
  },
  {
   "cell_type": "markdown",
   "metadata": {},
   "source": [
    "**Q2.1**  Download the *rating.csv*  from D2L.  The entries in *rating* represents the movie ratings given by these reviewers. \n",
    "Also, you will need the *user* data frame with column *agegroup* from  Q1. \n",
    "\n",
    "Join these two data frames to create a new data frame.\n",
    "\n",
    "\n",
    "**Q2.2**  Print the movie ids of the top rated movies (rating > 4) that are rated by either Teens or Seniors.\n",
    "\n",
    " "
   ]
  },
  {
   "cell_type": "code",
   "execution_count": 5,
   "metadata": {
    "scrolled": true
   },
   "outputs": [
    {
     "data": {
      "text/plain": [
       "4087     339\n",
       "4090     883\n",
       "4092     882\n",
       "4094     885\n",
       "4098     358\n",
       "        ... \n",
       "96437    274\n",
       "96447    255\n",
       "96452    785\n",
       "96454    280\n",
       "98293    288\n",
       "Name: movie_id, Length: 1833, dtype: int64"
      ]
     },
     "execution_count": 5,
     "metadata": {},
     "output_type": "execute_result"
    }
   ],
   "source": [
    "r_cols = ['user_id', 'movie_id', 'rating', 'unix_timestamp']\n",
    "rating = pd.read_csv('rating.csv', sep='\\t', names=r_cols)\n",
    "\n",
    "# write your code below\n",
    "\n",
    "# Q2.1\n",
    "urdf = pd.merge(user,rating)\n",
    "\n",
    "\n",
    "# Q2.2\n",
    "p = urdf[(urdf['rating']>4) & ((urdf['agegroup']=='teen')|(urdf['agegroup']=='senior'))]\n",
    "p['movie_id']"
   ]
  },
  {
   "cell_type": "markdown",
   "metadata": {},
   "source": [
    "**Q3.**  Using the dataframe in Q2.1, show the average movie rating for each agegroup. Remove records with NaN fields.\n",
    "\n",
    "\n"
   ]
  },
  {
   "cell_type": "code",
   "execution_count": 15,
   "metadata": {},
   "outputs": [
    {
     "data": {
      "text/plain": [
       "agegroup\n",
       "adult          3.550149\n",
       "children       3.425743\n",
       "senior         3.589212\n",
       "teen           3.488366\n",
       "young-adult    3.481513\n",
       "Name: rating, dtype: float64"
      ]
     },
     "execution_count": 15,
     "metadata": {},
     "output_type": "execute_result"
    }
   ],
   "source": [
    "# write your code below\n",
    "urdf = urdf.dropna()\n",
    "urdf = urdf.groupby('agegroup')"
   ]
  },
  {
   "cell_type": "code",
   "execution_count": null,
   "metadata": {},
   "outputs": [],
   "source": []
  }
 ],
 "metadata": {
  "anaconda-cloud": {},
  "kernelspec": {
   "display_name": "Python 3",
   "language": "python",
   "name": "python3"
  },
  "language_info": {
   "codemirror_mode": {
    "name": "ipython",
    "version": 3
   },
   "file_extension": ".py",
   "mimetype": "text/x-python",
   "name": "python",
   "nbconvert_exporter": "python",
   "pygments_lexer": "ipython3",
   "version": "3.8.8"
  }
 },
 "nbformat": 4,
 "nbformat_minor": 1
}
